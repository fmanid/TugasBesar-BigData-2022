{
  "metadata": {
    "kernelspec": {
      "language": "python",
      "display_name": "Python 3",
      "name": "python3"
    },
    "language_info": {
      "pygments_lexer": "ipython3",
      "nbconvert_exporter": "python",
      "version": "3.6.4",
      "file_extension": ".py",
      "codemirror_mode": {
        "name": "ipython",
        "version": 3
      },
      "name": "python",
      "mimetype": "text/x-python"
    },
    "colab": {
      "name": "TugasBesarBigdata Firman N.ipynb",
      "provenance": [],
      "collapsed_sections": [],
      "include_colab_link": true
    }
  },
  "nbformat_minor": 0,
  "nbformat": 4,
  "cells": [
    {
      "cell_type": "markdown",
      "metadata": {
        "id": "view-in-github",
        "colab_type": "text"
      },
      "source": [
        "<a href=\"https://colab.research.google.com/github/fmanid/TugasBesar-BigData-2022/blob/main/TugasBesarBigdata_Firman_N.ipynb\" target=\"_parent\"><img src=\"https://colab.research.google.com/assets/colab-badge.svg\" alt=\"Open In Colab\"/></a>"
      ]
    },
    {
      "cell_type": "code",
      "source": [
        "#installing required libraries"
      ],
      "metadata": {
        "trusted": true,
        "id": "r3S8rFn_DI2J"
      },
      "execution_count": null,
      "outputs": []
    },
    {
      "cell_type": "code",
      "source": [
        "!pip install wget"
      ],
      "metadata": {
        "_uuid": "d629ff2d2480ee46fbb7e2d37f6b5fab8052498a",
        "_cell_guid": "79c7e3d0-c299-4dcb-8224-4455121ee9b0",
        "trusted": true,
        "colab": {
          "base_uri": "https://localhost:8080/"
        },
        "id": "PWwVG1hmDI2O",
        "outputId": "0c3efd02-32f7-47a5-f16f-53d18df15c87"
      },
      "execution_count": null,
      "outputs": [
        {
          "output_type": "stream",
          "name": "stdout",
          "text": [
            "Looking in indexes: https://pypi.org/simple, https://us-python.pkg.dev/colab-wheels/public/simple/\n",
            "Collecting wget\n",
            "  Downloading wget-3.2.zip (10 kB)\n",
            "Building wheels for collected packages: wget\n",
            "  Building wheel for wget (setup.py) ... \u001b[?25l\u001b[?25hdone\n",
            "  Created wheel for wget: filename=wget-3.2-py3-none-any.whl size=9675 sha256=ec4ab3aacdd135f3ac667977e6d2f1a430cd26dd9c35e03f46a23d4809e64386\n",
            "  Stored in directory: /root/.cache/pip/wheels/a1/b6/7c/0e63e34eb06634181c63adacca38b79ff8f35c37e3c13e3c02\n",
            "Successfully built wget\n",
            "Installing collected packages: wget\n",
            "Successfully installed wget-3.2\n"
          ]
        }
      ]
    },
    {
      "cell_type": "code",
      "source": [
        "import wget"
      ],
      "metadata": {
        "trusted": true,
        "id": "ZxTRKwK5DI2Q"
      },
      "execution_count": null,
      "outputs": []
    },
    {
      "cell_type": "code",
      "source": [
        "#Downloading the dataset "
      ],
      "metadata": {
        "trusted": true,
        "id": "z329jizLDI2R"
      },
      "execution_count": null,
      "outputs": []
    },
    {
      "cell_type": "code",
      "source": [
        "link_to_data = 'https://github.com/tulip-lab/sit742/raw/master/Assessment/2020/data/2020T2Data.csv'\n",
        "DataSet = wget.download(link_to_data)"
      ],
      "metadata": {
        "trusted": true,
        "id": "dGY89GD1DI2S"
      },
      "execution_count": null,
      "outputs": []
    },
    {
      "cell_type": "code",
      "source": [
        "DataSet"
      ],
      "metadata": {
        "trusted": true,
        "colab": {
          "base_uri": "https://localhost:8080/",
          "height": 36
        },
        "id": "Q2NkJIZtDI2T",
        "outputId": "3608bc5e-2375-484b-f5e6-685b71686e24"
      },
      "execution_count": null,
      "outputs": [
        {
          "output_type": "execute_result",
          "data": {
            "text/plain": [
              "'2020T2Data.csv'"
            ],
            "application/vnd.google.colaboratory.intrinsic+json": {
              "type": "string"
            }
          },
          "metadata": {},
          "execution_count": 6
        }
      ]
    },
    {
      "cell_type": "code",
      "source": [
        "#installing pyspark"
      ],
      "metadata": {
        "trusted": true,
        "id": "Nn_1uX26DI2T"
      },
      "execution_count": null,
      "outputs": []
    },
    {
      "cell_type": "code",
      "source": [
        "!pip install pyspark"
      ],
      "metadata": {
        "trusted": true,
        "colab": {
          "base_uri": "https://localhost:8080/"
        },
        "id": "DlajstYwDI2U",
        "outputId": "e1255a9f-f514-4c6b-89ad-03b9a4ebbb29"
      },
      "execution_count": null,
      "outputs": [
        {
          "output_type": "stream",
          "name": "stdout",
          "text": [
            "Looking in indexes: https://pypi.org/simple, https://us-python.pkg.dev/colab-wheels/public/simple/\n",
            "Collecting pyspark\n",
            "  Downloading pyspark-3.3.0.tar.gz (281.3 MB)\n",
            "\u001b[K     |████████████████████████████████| 281.3 MB 49 kB/s \n",
            "\u001b[?25hCollecting py4j==0.10.9.5\n",
            "  Downloading py4j-0.10.9.5-py2.py3-none-any.whl (199 kB)\n",
            "\u001b[K     |████████████████████████████████| 199 kB 65.0 MB/s \n",
            "\u001b[?25hBuilding wheels for collected packages: pyspark\n",
            "  Building wheel for pyspark (setup.py) ... \u001b[?25l\u001b[?25hdone\n",
            "  Created wheel for pyspark: filename=pyspark-3.3.0-py2.py3-none-any.whl size=281764026 sha256=a52245306036d756b5ef9145bbac555e7be0e4e2ce8af2c8ef5024d77e45be10\n",
            "  Stored in directory: /root/.cache/pip/wheels/7a/8e/1b/f73a52650d2e5f337708d9f6a1750d451a7349a867f928b885\n",
            "Successfully built pyspark\n",
            "Installing collected packages: py4j, pyspark\n",
            "Successfully installed py4j-0.10.9.5 pyspark-3.3.0\n"
          ]
        }
      ]
    },
    {
      "cell_type": "code",
      "source": [
        "\n",
        "\n",
        "#1.1 Data Exploration\n",
        "\n"
      ],
      "metadata": {
        "trusted": true,
        "id": "O3BW1wDADI2V"
      },
      "execution_count": null,
      "outputs": []
    },
    {
      "cell_type": "code",
      "source": [
        "#importing required libraries\n",
        "from pyspark.sql import SparkSession\n",
        "from pyspark import SparkContext, SparkConf"
      ],
      "metadata": {
        "trusted": true,
        "id": "j5jZXTDUDI2V"
      },
      "execution_count": null,
      "outputs": []
    },
    {
      "cell_type": "code",
      "source": [
        "#Creating sparksession"
      ],
      "metadata": {
        "trusted": true,
        "id": "g1D2e3N8DI2W"
      },
      "execution_count": null,
      "outputs": []
    },
    {
      "cell_type": "code",
      "source": [
        "spark = (SparkSession\n",
        " .builder\n",
        " .appName('SIT742T2')\n",
        " .enableHiveSupport()\n",
        " .getOrCreate())"
      ],
      "metadata": {
        "trusted": true,
        "id": "M6W4d-n4DI2X"
      },
      "execution_count": null,
      "outputs": []
    },
    {
      "cell_type": "code",
      "source": [
        "#Reading csv file as a spark dataframe"
      ],
      "metadata": {
        "trusted": true,
        "id": "jI8m9SqrDI2X"
      },
      "execution_count": null,
      "outputs": []
    },
    {
      "cell_type": "code",
      "source": [
        "df = spark.read.csv('2020T2Data.csv',inferSchema = True,header=True)"
      ],
      "metadata": {
        "trusted": true,
        "id": "RJ93g3yYDI2Y"
      },
      "execution_count": null,
      "outputs": []
    },
    {
      "cell_type": "code",
      "source": [
        "df.printSchema()"
      ],
      "metadata": {
        "trusted": true,
        "colab": {
          "base_uri": "https://localhost:8080/"
        },
        "id": "jASG7b_ZDI2Y",
        "outputId": "36d26252-35aa-4dd5-c454-a7a8347e331c"
      },
      "execution_count": null,
      "outputs": [
        {
          "output_type": "stream",
          "name": "stdout",
          "text": [
            "root\n",
            " |-- ID: integer (nullable = true)\n",
            " |-- Name: string (nullable = true)\n",
            " |-- Age: integer (nullable = true)\n",
            " |-- Photo: string (nullable = true)\n",
            " |-- Nationality: string (nullable = true)\n",
            " |-- Flag: string (nullable = true)\n",
            " |-- Overall: integer (nullable = true)\n",
            " |-- Potential: integer (nullable = true)\n",
            " |-- Club: string (nullable = true)\n",
            " |-- Club Logo: string (nullable = true)\n",
            " |-- value(M): string (nullable = true)\n",
            " |-- wage(K): integer (nullable = true)\n",
            " |-- Special: integer (nullable = true)\n",
            " |-- Preferred Foot: string (nullable = true)\n",
            " |-- International Reputation: integer (nullable = true)\n",
            " |-- Weak Foot: integer (nullable = true)\n",
            " |-- Skill Moves: integer (nullable = true)\n",
            " |-- Work Rate: string (nullable = true)\n",
            " |-- Body Type: string (nullable = true)\n",
            " |-- Real Face: string (nullable = true)\n",
            " |-- Position: string (nullable = true)\n",
            " |-- Jersey Number: integer (nullable = true)\n",
            " |-- Joined: string (nullable = true)\n",
            " |-- Loaned From: string (nullable = true)\n",
            " |-- Contract Valid Until: string (nullable = true)\n",
            " |-- Height: double (nullable = true)\n",
            " |-- Height(CM): double (nullable = true)\n",
            " |-- Weight: double (nullable = true)\n",
            " |-- Weight(KG): double (nullable = true)\n",
            " |-- Crossing: integer (nullable = true)\n",
            " |-- Finishing: integer (nullable = true)\n",
            " |-- HeadingAccuracy: integer (nullable = true)\n",
            " |-- ShortPassing: integer (nullable = true)\n",
            " |-- Volleys: integer (nullable = true)\n",
            " |-- Dribbling: integer (nullable = true)\n",
            " |-- Curve: integer (nullable = true)\n",
            " |-- FKAccuracy: integer (nullable = true)\n",
            " |-- LongPassing: integer (nullable = true)\n",
            " |-- BallControl: integer (nullable = true)\n",
            " |-- Acceleration: integer (nullable = true)\n",
            " |-- SprintSpeed: integer (nullable = true)\n",
            " |-- Agility: integer (nullable = true)\n",
            " |-- Reactions: integer (nullable = true)\n",
            " |-- Balance: integer (nullable = true)\n",
            " |-- ShotPower: integer (nullable = true)\n",
            " |-- Jumping: integer (nullable = true)\n",
            " |-- Stamina: integer (nullable = true)\n",
            " |-- Strength: integer (nullable = true)\n",
            " |-- LongShots: integer (nullable = true)\n",
            " |-- Aggression: integer (nullable = true)\n",
            " |-- Interceptions: integer (nullable = true)\n",
            " |-- Positioning: integer (nullable = true)\n",
            " |-- Vision: integer (nullable = true)\n",
            " |-- Penalties: integer (nullable = true)\n",
            " |-- Composure: integer (nullable = true)\n",
            " |-- Marking: integer (nullable = true)\n",
            " |-- StandingTackle: integer (nullable = true)\n",
            " |-- SlidingTackle: integer (nullable = true)\n",
            " |-- GKDiving: integer (nullable = true)\n",
            " |-- GKHandling: integer (nullable = true)\n",
            " |-- GKKicking: integer (nullable = true)\n",
            " |-- GKPositioning: integer (nullable = true)\n",
            " |-- GKReflexes: integer (nullable = true)\n",
            " |-- Release Clause(M): string (nullable = true)\n",
            "\n"
          ]
        }
      ]
    },
    {
      "cell_type": "code",
      "source": [
        "df.columns"
      ],
      "metadata": {
        "trusted": true,
        "colab": {
          "base_uri": "https://localhost:8080/"
        },
        "id": "g9MGtCrGDI2Z",
        "outputId": "a879a639-510c-4b75-f8f5-bd39334eb8bd"
      },
      "execution_count": null,
      "outputs": [
        {
          "output_type": "execute_result",
          "data": {
            "text/plain": [
              "['ID',\n",
              " 'Name',\n",
              " 'Age',\n",
              " 'Photo',\n",
              " 'Nationality',\n",
              " 'Flag',\n",
              " 'Overall',\n",
              " 'Potential',\n",
              " 'Club',\n",
              " 'Club Logo',\n",
              " 'value(M)',\n",
              " 'wage(K)',\n",
              " 'Special',\n",
              " 'Preferred Foot',\n",
              " 'International Reputation',\n",
              " 'Weak Foot',\n",
              " 'Skill Moves',\n",
              " 'Work Rate',\n",
              " 'Body Type',\n",
              " 'Real Face',\n",
              " 'Position',\n",
              " 'Jersey Number',\n",
              " 'Joined',\n",
              " 'Loaned From',\n",
              " 'Contract Valid Until',\n",
              " 'Height',\n",
              " 'Height(CM)',\n",
              " 'Weight',\n",
              " 'Weight(KG)',\n",
              " 'Crossing',\n",
              " 'Finishing',\n",
              " 'HeadingAccuracy',\n",
              " 'ShortPassing',\n",
              " 'Volleys',\n",
              " 'Dribbling',\n",
              " 'Curve',\n",
              " 'FKAccuracy',\n",
              " 'LongPassing',\n",
              " 'BallControl',\n",
              " 'Acceleration',\n",
              " 'SprintSpeed',\n",
              " 'Agility',\n",
              " 'Reactions',\n",
              " 'Balance',\n",
              " 'ShotPower',\n",
              " 'Jumping',\n",
              " 'Stamina',\n",
              " 'Strength',\n",
              " 'LongShots',\n",
              " 'Aggression',\n",
              " 'Interceptions',\n",
              " 'Positioning',\n",
              " 'Vision',\n",
              " 'Penalties',\n",
              " 'Composure',\n",
              " 'Marking',\n",
              " 'StandingTackle',\n",
              " 'SlidingTackle',\n",
              " 'GKDiving',\n",
              " 'GKHandling',\n",
              " 'GKKicking',\n",
              " 'GKPositioning',\n",
              " 'GKReflexes',\n",
              " 'Release Clause(M)']"
            ]
          },
          "metadata": {},
          "execution_count": 16
        }
      ]
    },
    {
      "cell_type": "code",
      "source": [
        "df.show(5)"
      ],
      "metadata": {
        "trusted": true,
        "colab": {
          "base_uri": "https://localhost:8080/"
        },
        "id": "lKqESI_TDI2Z",
        "outputId": "5f21931a-2c16-43c7-fd5c-57137507b4ca"
      },
      "execution_count": null,
      "outputs": [
        {
          "output_type": "stream",
          "name": "stdout",
          "text": [
            "+------+-----------------+---+--------------------+-----------+--------------------+-------+---------+-------------------+--------------------+--------+-------+-------+--------------+------------------------+---------+-----------+--------------+----------+---------+--------+-------------+------------+-----------+--------------------+------+----------+------+----------+--------+---------+---------------+------------+-------+---------+-----+----------+-----------+-----------+------------+-----------+-------+---------+-------+---------+-------+-------+--------+---------+----------+-------------+-----------+------+---------+---------+-------+--------------+-------------+--------+----------+---------+-------------+----------+-----------------+\n",
            "|    ID|             Name|Age|               Photo|Nationality|                Flag|Overall|Potential|               Club|           Club Logo|value(M)|wage(K)|Special|Preferred Foot|International Reputation|Weak Foot|Skill Moves|     Work Rate| Body Type|Real Face|Position|Jersey Number|      Joined|Loaned From|Contract Valid Until|Height|Height(CM)|Weight|Weight(KG)|Crossing|Finishing|HeadingAccuracy|ShortPassing|Volleys|Dribbling|Curve|FKAccuracy|LongPassing|BallControl|Acceleration|SprintSpeed|Agility|Reactions|Balance|ShotPower|Jumping|Stamina|Strength|LongShots|Aggression|Interceptions|Positioning|Vision|Penalties|Composure|Marking|StandingTackle|SlidingTackle|GKDiving|GKHandling|GKKicking|GKPositioning|GKReflexes|Release Clause(M)|\n",
            "+------+-----------------+---+--------------------+-----------+--------------------+-------+---------+-------------------+--------------------+--------+-------+-------+--------------+------------------------+---------+-----------+--------------+----------+---------+--------+-------------+------------+-----------+--------------------+------+----------+------+----------+--------+---------+---------------+------------+-------+---------+-----+----------+-----------+-----------+------------+-----------+-------+---------+-------+---------+-------+-------+--------+---------+----------+-------------+-----------+------+---------+---------+-------+--------------+-------------+--------+----------+---------+-------------+----------+-----------------+\n",
            "|158023|         L. Messi| 31|https://cdn.sofif...|  Argentina|https://cdn.sofif...|     94|       94|       FC Barcelona|https://cdn.sofif...|   110.5|    565|   2202|          Left|                       5|        4|          4|Medium/ Medium|     Messi|      Yes|      RF|           10| Jul 1, 2004|       null|                2021|   5.7|   173.736| 159.0| 72.121128|      84|       95|             70|          90|     86|       97|   93|        94|         87|         96|          91|         86|     91|       95|     95|       85|     68|     72|      59|       94|        48|           22|         94|    94|       75|       96|     33|            28|           26|       6|        11|       15|           14|         8|            226.5|\n",
            "| 20801|Cristiano Ronaldo| 33|https://cdn.sofif...|   Portugal|https://cdn.sofif...|     94|       94|           Juventus|https://cdn.sofif...|      77|    405|   2228|         Right|                       5|        4|          5|     High/ Low|C. Ronaldo|      Yes|      ST|            7|Jul 10, 2018|       null|                2022|   6.2|   188.976| 183.0| 83.007336|      84|       94|             89|          81|     87|       88|   81|        76|         77|         94|          89|         91|     87|       96|     70|       95|     95|     88|      79|       93|        63|           29|         95|    82|       85|       95|     28|            31|           23|       7|        11|       15|           14|        11|            127.1|\n",
            "|190871|        Neymar Jr| 26|https://cdn.sofif...|     Brazil|https://cdn.sofif...|     92|       93|Paris Saint-Germain|https://cdn.sofif...|   118.5|    290|   2143|         Right|                       5|        5|          5|  High/ Medium|    Neymar|      Yes|      LW|           10| Aug 3, 2017|       null|                2022|   5.9|   179.832| 150.0|   68.0388|      79|       87|             62|          84|     84|       96|   88|        87|         78|         95|          94|         90|     96|       94|     84|       80|     61|     81|      49|       82|        56|           36|         89|    87|       81|       94|     27|            24|           33|       9|         9|       15|           15|        11|            228.1|\n",
            "|193080|           De Gea| 27|https://cdn.sofif...|      Spain|https://cdn.sofif...|     91|       93|  Manchester United|https://cdn.sofif...|      72|    260|   1471|         Right|                       4|        3|          1|Medium/ Medium|      Lean|      Yes|      GK|            1| Jul 1, 2011|       null|                2020|   6.4|   195.072| 168.0| 76.203456|      17|       13|             21|          50|     13|       18|   21|        19|         51|         42|          57|         58|     60|       90|     43|       31|     67|     43|      64|       12|        38|           30|         12|    68|       40|       68|     15|            21|           13|      90|        85|       87|           88|        94|            138.6|\n",
            "|192985|     K. De Bruyne| 27|https://cdn.sofif...|    Belgium|https://cdn.sofif...|     91|       92|    Manchester City|https://cdn.sofif...|     102|    355|   2281|         Right|                       4|        5|          4|    High/ High|    Normal|      Yes|     RCM|            7|Aug 30, 2015|       null|                2023|  5.11|  155.7528| 154.0| 69.853168|      93|       82|             55|          92|     82|       86|   85|        83|         91|         91|          78|         76|     79|       91|     77|       91|     63|     90|      75|       91|        76|           61|         87|    94|       79|       88|     68|            58|           51|      15|        13|        5|           10|        13|            196.4|\n",
            "+------+-----------------+---+--------------------+-----------+--------------------+-------+---------+-------------------+--------------------+--------+-------+-------+--------------+------------------------+---------+-----------+--------------+----------+---------+--------+-------------+------------+-----------+--------------------+------+----------+------+----------+--------+---------+---------------+------------+-------+---------+-----+----------+-----------+-----------+------------+-----------+-------+---------+-------+---------+-------+-------+--------+---------+----------+-------------+-----------+------+---------+---------+-------+--------------+-------------+--------+----------+---------+-------------+----------+-----------------+\n",
            "only showing top 5 rows\n",
            "\n"
          ]
        }
      ]
    },
    {
      "cell_type": "code",
      "source": [
        "#Which are the (min, mean and max) for Age"
      ],
      "metadata": {
        "trusted": true,
        "id": "Da-WwqghDI2a"
      },
      "execution_count": null,
      "outputs": []
    },
    {
      "cell_type": "code",
      "source": [
        "from pyspark.sql import functions as F\n",
        "\n",
        "import pyspark.sql.functions as F\n",
        "\n",
        "\n",
        "#Statistics on Age \n",
        "print(\"Minimum of Age :\")\n",
        "df.select(F.min('Age')).show()\n",
        "\n",
        "\n",
        "print(\"Mean of Age :\")\n",
        "df.select(F.mean('Age')).show()\n",
        "\n",
        "print(\"Maximum of Age :\")\n",
        "df.select(F.max('Age')).show()\n"
      ],
      "metadata": {
        "trusted": true,
        "colab": {
          "base_uri": "https://localhost:8080/"
        },
        "id": "qFvG1G2yDI2a",
        "outputId": "e5c40a1d-6301-4af2-ec9a-3af5f316b5f7"
      },
      "execution_count": null,
      "outputs": [
        {
          "output_type": "stream",
          "name": "stdout",
          "text": [
            "Minimum of Age :\n",
            "+--------+\n",
            "|min(Age)|\n",
            "+--------+\n",
            "|      16|\n",
            "+--------+\n",
            "\n",
            "Mean of Age :\n",
            "+------------------+\n",
            "|          avg(Age)|\n",
            "+------------------+\n",
            "|25.122205745043114|\n",
            "+------------------+\n",
            "\n",
            "Maximum of Age :\n",
            "+--------+\n",
            "|max(Age)|\n",
            "+--------+\n",
            "|      45|\n",
            "+--------+\n",
            "\n"
          ]
        }
      ]
    },
    {
      "cell_type": "code",
      "source": [
        "#minimum age is 16, mean of age is 25.122205.., maximum age is 45"
      ],
      "metadata": {
        "trusted": true,
        "id": "efRCQSIxDI2b"
      },
      "execution_count": null,
      "outputs": []
    },
    {
      "cell_type": "code",
      "source": [
        "#Which are the (min, mean and max) for Overall"
      ],
      "metadata": {
        "trusted": true,
        "id": "1UYOVwIlDI2b"
      },
      "execution_count": null,
      "outputs": []
    },
    {
      "cell_type": "code",
      "source": [
        "\n",
        "#Statistics on Overall \n",
        "\n",
        "print(\"Minimum of Overall :\")\n",
        "df.select(F.min('Overall')).show()\n",
        "\n",
        "\n",
        "print(\"Mean of Overall :\")\n",
        "df.select(F.mean('Overall')).show()\n",
        "\n",
        "print(\"Maximum of Overall :\")\n",
        "df.select(F.max('Overall')).show()"
      ],
      "metadata": {
        "trusted": true,
        "colab": {
          "base_uri": "https://localhost:8080/"
        },
        "id": "iW0wEvG3DI2c",
        "outputId": "7724a306-8f43-4a25-d880-56b07b8bf6c6"
      },
      "execution_count": null,
      "outputs": [
        {
          "output_type": "stream",
          "name": "stdout",
          "text": [
            "Minimum of Overall :\n",
            "+------------+\n",
            "|min(Overall)|\n",
            "+------------+\n",
            "|          46|\n",
            "+------------+\n",
            "\n",
            "Mean of Overall :\n",
            "+-----------------+\n",
            "|     avg(Overall)|\n",
            "+-----------------+\n",
            "|66.23869940132916|\n",
            "+-----------------+\n",
            "\n",
            "Maximum of Overall :\n",
            "+------------+\n",
            "|max(Overall)|\n",
            "+------------+\n",
            "|          94|\n",
            "+------------+\n",
            "\n"
          ]
        }
      ]
    },
    {
      "cell_type": "code",
      "source": [
        "#minimum overall is 46, mean of overall is 66.23869940.. and maximum overall is 94"
      ],
      "metadata": {
        "trusted": true,
        "id": "prCwy_9ADI2d"
      },
      "execution_count": null,
      "outputs": []
    },
    {
      "cell_type": "code",
      "source": [
        "#Find the position having highest Avg Overall (sort Avg Overall by position)"
      ],
      "metadata": {
        "trusted": true,
        "id": "UTmmSHYHDI2d"
      },
      "execution_count": null,
      "outputs": []
    },
    {
      "cell_type": "code",
      "source": [
        "df.groupBy(\"Position\").agg(F.mean('Overall')).orderBy(\"avg(Overall)\", ascending=False).show(10)"
      ],
      "metadata": {
        "trusted": true,
        "colab": {
          "base_uri": "https://localhost:8080/"
        },
        "id": "2NziIa5zDI2e",
        "outputId": "5f9d6f46-dd51-434d-a4c0-74a7efd0fc48"
      },
      "execution_count": null,
      "outputs": [
        {
          "output_type": "stream",
          "name": "stdout",
          "text": [
            "+--------+-----------------+\n",
            "|Position|     avg(Overall)|\n",
            "+--------+-----------------+\n",
            "|      LF|73.86666666666666|\n",
            "|      RF|            73.25|\n",
            "|     RAM|72.28571428571429|\n",
            "|     LAM|71.85714285714286|\n",
            "|      LS|70.06280193236715|\n",
            "|     RDM|69.75403225806451|\n",
            "|      RS|69.52216748768473|\n",
            "|     RCB|69.28398791540785|\n",
            "|     LCM|69.27088607594936|\n",
            "|     LCB|69.24074074074075|\n",
            "+--------+-----------------+\n",
            "only showing top 10 rows\n",
            "\n"
          ]
        }
      ]
    },
    {
      "cell_type": "code",
      "source": [
        "#So position \"LF\" have highest avg(Overall)"
      ],
      "metadata": {
        "trusted": true,
        "id": "cuqcBrvIDI2e"
      },
      "execution_count": null,
      "outputs": []
    },
    {
      "cell_type": "code",
      "source": [
        "#Find the top 3 countries with highest Avg Overall (sort Avg Overall by countries)"
      ],
      "metadata": {
        "trusted": true,
        "id": "opAR3tcrDI2e"
      },
      "execution_count": null,
      "outputs": []
    },
    {
      "cell_type": "code",
      "source": [
        "df.groupBy(\"Nationality\").agg(F.mean('Overall')).orderBy(\"avg(Overall)\", ascending=False).show(3)"
      ],
      "metadata": {
        "trusted": true,
        "colab": {
          "base_uri": "https://localhost:8080/"
        },
        "id": "TquhFoipDI2f",
        "outputId": "c4a01d9e-3507-4fa5-c831-2893083c40f6"
      },
      "execution_count": null,
      "outputs": [
        {
          "output_type": "stream",
          "name": "stdout",
          "text": [
            "+--------------------+-----------------+\n",
            "|         Nationality|     avg(Overall)|\n",
            "+--------------------+-----------------+\n",
            "|United Arab Emirates|             77.0|\n",
            "|Central African Rep.|73.33333333333333|\n",
            "|              Israel|72.14285714285714|\n",
            "+--------------------+-----------------+\n",
            "only showing top 3 rows\n",
            "\n"
          ]
        }
      ]
    },
    {
      "cell_type": "code",
      "source": [
        "#So the top 3 countries with highest Avg overall are \"United Arab Emirates\",\"Central American Rep.\" and \"Israel\""
      ],
      "metadata": {
        "trusted": true,
        "id": "0fVDPjQNDI2f"
      },
      "execution_count": null,
      "outputs": []
    },
    {
      "cell_type": "code",
      "source": [
        "\n",
        "\n",
        "#1.1.B\n",
        "\n"
      ],
      "metadata": {
        "trusted": true,
        "id": "JFWduCbgDI2g"
      },
      "execution_count": null,
      "outputs": []
    },
    {
      "cell_type": "code",
      "source": [
        "#Show the results on Avg Potentials on Country by Position with ordering the results on country by alphabet"
      ],
      "metadata": {
        "trusted": true,
        "id": "NIsrdTj4DI2h"
      },
      "execution_count": null,
      "outputs": []
    },
    {
      "cell_type": "code",
      "source": [
        "#Your code for the results on Avg Potentials on Country by Position with ordering the results on country by alphabet (show top 10)\n",
        "\n",
        "df1 = df.groupBy(\"Nationality\",\"Position\").agg(F.mean('Potential')).orderBy(\"Nationality\",descending=False)\n",
        "df1.show(10)"
      ],
      "metadata": {
        "trusted": true,
        "colab": {
          "base_uri": "https://localhost:8080/"
        },
        "id": "W2nr2DBBDI2h",
        "outputId": "57bc2c87-cc8a-48db-b7c4-9034b06b49bb"
      },
      "execution_count": null,
      "outputs": [
        {
          "output_type": "stream",
          "name": "stdout",
          "text": [
            "+-----------+--------+-----------------+\n",
            "|Nationality|Position|   avg(Potential)|\n",
            "+-----------+--------+-----------------+\n",
            "|Afghanistan|     CAM|             66.0|\n",
            "|Afghanistan|      CM|             71.0|\n",
            "|Afghanistan|      LM|             70.0|\n",
            "|Afghanistan|      LB|             64.0|\n",
            "|    Albania|      LB|             66.0|\n",
            "|    Albania|     RCB|             68.0|\n",
            "|    Albania|     CDM|             69.5|\n",
            "|    Albania|      CB|74.33333333333333|\n",
            "|    Albania|      GK|             77.5|\n",
            "|    Albania|      RM|             64.0|\n",
            "+-----------+--------+-----------------+\n",
            "only showing top 10 rows\n",
            "\n"
          ]
        }
      ]
    },
    {
      "cell_type": "code",
      "source": [
        "#Find position having highest Avg Potential for Australia"
      ],
      "metadata": {
        "trusted": true,
        "id": "48v7SHeIDI2i"
      },
      "execution_count": null,
      "outputs": []
    },
    {
      "cell_type": "code",
      "source": [
        "#Your Code to identify the position having highest Avg Potential for Australia\n",
        "\n",
        "df1.filter((df1.Nationality==\"Australia\")).orderBy(\"avg(Potential)\",ascending=False).show(5)"
      ],
      "metadata": {
        "trusted": true,
        "colab": {
          "base_uri": "https://localhost:8080/"
        },
        "id": "SWFppKfcDI2i",
        "outputId": "2c27a4a3-ab6a-4d82-8b5e-27085c2ffb2f"
      },
      "execution_count": null,
      "outputs": [
        {
          "output_type": "stream",
          "name": "stdout",
          "text": [
            "+-----------+--------+-----------------+\n",
            "|Nationality|Position|   avg(Potential)|\n",
            "+-----------+--------+-----------------+\n",
            "|  Australia|     RDM|             77.0|\n",
            "|  Australia|     RCM|             72.5|\n",
            "|  Australia|     CAM|            71.25|\n",
            "|  Australia|     LWB|             71.0|\n",
            "|  Australia|      RM|70.53846153846153|\n",
            "+-----------+--------+-----------------+\n",
            "only showing top 5 rows\n",
            "\n"
          ]
        }
      ]
    },
    {
      "cell_type": "code",
      "source": [
        "#So Position with Highest average potential for Australia is \"RDM\""
      ],
      "metadata": {
        "trusted": true,
        "id": "qpJFBsn8DI2j"
      },
      "execution_count": null,
      "outputs": []
    },
    {
      "cell_type": "code",
      "source": [
        "#is there a age that the player is fully released his potential? If there is, could you find out?"
      ],
      "metadata": {
        "trusted": true,
        "id": "U3XJjAnkDI2j"
      },
      "execution_count": null,
      "outputs": []
    },
    {
      "cell_type": "code",
      "source": [
        "import matplotlib.pyplot as plt\n",
        "import numpy as np\n",
        "import pandas as pd"
      ],
      "metadata": {
        "trusted": true,
        "id": "YwYKlEBxDI2k"
      },
      "execution_count": null,
      "outputs": []
    },
    {
      "cell_type": "code",
      "source": [
        "X = df.groupBy(\"Age\").agg(F.mean('Potential'))"
      ],
      "metadata": {
        "trusted": true,
        "id": "xTGJWqWzDI2k"
      },
      "execution_count": null,
      "outputs": []
    },
    {
      "cell_type": "code",
      "source": [
        "X.show(100)"
      ],
      "metadata": {
        "trusted": true,
        "colab": {
          "base_uri": "https://localhost:8080/"
        },
        "id": "0tV-BINbDI2l",
        "outputId": "35489172-f772-4a24-bc1c-88ec4400d81d"
      },
      "execution_count": null,
      "outputs": [
        {
          "output_type": "stream",
          "name": "stdout",
          "text": [
            "+---+-----------------+\n",
            "|Age|   avg(Potential)|\n",
            "+---+-----------------+\n",
            "| 31|69.85007072135785|\n",
            "| 34|69.53960396039604|\n",
            "| 28| 69.4441416893733|\n",
            "| 26|70.17664023071377|\n",
            "| 27| 69.7091222030981|\n",
            "| 22|72.81940298507463|\n",
            "| 16|73.19047619047619|\n",
            "| 40| 67.6923076923077|\n",
            "| 20|73.21370967741936|\n",
            "| 19|     73.146484375|\n",
            "| 41|             67.6|\n",
            "| 37| 68.9390243902439|\n",
            "| 17|74.33910034602076|\n",
            "| 35|68.13265306122449|\n",
            "| 23|72.55555555555556|\n",
            "| 39|            67.64|\n",
            "| 45|             71.0|\n",
            "| 38|67.37837837837837|\n",
            "| 25|71.29037149355572|\n",
            "| 24|72.07952871870398|\n",
            "| 29|69.35766423357664|\n",
            "| 21|72.95783555867885|\n",
            "| 32|69.52961672473867|\n",
            "| 33|69.55882352941177|\n",
            "| 42|             65.0|\n",
            "| 30|69.70010905125409|\n",
            "| 18|73.53005464480874|\n",
            "| 36|67.93700787401575|\n",
            "| 44|             50.5|\n",
            "+---+-----------------+\n",
            "\n"
          ]
        }
      ]
    },
    {
      "cell_type": "code",
      "source": [
        "age =[31,34,28,26,27,44,22,16,40,20,19,41,37,17,35,23,39,45,38,25,24,29,21,32,33,42,30,18,36]\n",
        "avg_pot = [69.85007072135785, 69.53960396039604, 69.4441416893733, 70.17664023071377, 69.7091222030981, 50.5, 72.81940298507463, 73.19047619047619,\n",
        "                 67.6923076923077, 73.21370967741936, 73.146484375, 67.6, 68.9390243902439, 74.33910034602076, 68.13265306122449, 72.55555555555556, 67.64,\n",
        "                 71.0, 67.37837837837837, 71.29037149355572, 72.07952871870398, 69.35766423357664, 72.95783555867885, 69.52961672473867,\n",
        "                 69.55882352941177, 65.0, 69.70010905125409, 73.53005464480874, 67.93700787401575]"
      ],
      "metadata": {
        "trusted": true,
        "id": "F0rn-GlVDI2l"
      },
      "execution_count": null,
      "outputs": []
    },
    {
      "cell_type": "code",
      "source": [
        "len(age), len(avg_pot)"
      ],
      "metadata": {
        "trusted": true,
        "colab": {
          "base_uri": "https://localhost:8080/"
        },
        "id": "kGmyAR6UDI2m",
        "outputId": "cca5475b-b1c7-491c-b243-9e8bdfed3623"
      },
      "execution_count": null,
      "outputs": [
        {
          "output_type": "execute_result",
          "data": {
            "text/plain": [
              "(29, 29)"
            ]
          },
          "metadata": {},
          "execution_count": 41
        }
      ]
    },
    {
      "cell_type": "code",
      "source": [
        "d = {'Age': age,'avg(Potential)': avg_pot}\n",
        "dss = pd.DataFrame(d)"
      ],
      "metadata": {
        "trusted": true,
        "id": "ID-QcT5EDI2m"
      },
      "execution_count": null,
      "outputs": []
    },
    {
      "cell_type": "code",
      "source": [
        "dss.sort_values(by=['Age'], inplace=True)\n",
        "dss"
      ],
      "metadata": {
        "trusted": true,
        "colab": {
          "base_uri": "https://localhost:8080/",
          "height": 959
        },
        "id": "YcLEDwEgDI2m",
        "outputId": "904792ee-7955-46ce-924f-8f89c9bb97ee"
      },
      "execution_count": null,
      "outputs": [
        {
          "output_type": "execute_result",
          "data": {
            "text/plain": [
              "    Age  avg(Potential)\n",
              "7    16       73.190476\n",
              "13   17       74.339100\n",
              "27   18       73.530055\n",
              "10   19       73.146484\n",
              "9    20       73.213710\n",
              "22   21       72.957836\n",
              "6    22       72.819403\n",
              "15   23       72.555556\n",
              "20   24       72.079529\n",
              "19   25       71.290371\n",
              "3    26       70.176640\n",
              "4    27       69.709122\n",
              "2    28       69.444142\n",
              "21   29       69.357664\n",
              "26   30       69.700109\n",
              "0    31       69.850071\n",
              "23   32       69.529617\n",
              "24   33       69.558824\n",
              "1    34       69.539604\n",
              "14   35       68.132653\n",
              "28   36       67.937008\n",
              "12   37       68.939024\n",
              "18   38       67.378378\n",
              "16   39       67.640000\n",
              "8    40       67.692308\n",
              "11   41       67.600000\n",
              "25   42       65.000000\n",
              "5    44       50.500000\n",
              "17   45       71.000000"
            ],
            "text/html": [
              "\n",
              "  <div id=\"df-0cafbc2f-57f9-48e8-9181-23c84bafd01a\">\n",
              "    <div class=\"colab-df-container\">\n",
              "      <div>\n",
              "<style scoped>\n",
              "    .dataframe tbody tr th:only-of-type {\n",
              "        vertical-align: middle;\n",
              "    }\n",
              "\n",
              "    .dataframe tbody tr th {\n",
              "        vertical-align: top;\n",
              "    }\n",
              "\n",
              "    .dataframe thead th {\n",
              "        text-align: right;\n",
              "    }\n",
              "</style>\n",
              "<table border=\"1\" class=\"dataframe\">\n",
              "  <thead>\n",
              "    <tr style=\"text-align: right;\">\n",
              "      <th></th>\n",
              "      <th>Age</th>\n",
              "      <th>avg(Potential)</th>\n",
              "    </tr>\n",
              "  </thead>\n",
              "  <tbody>\n",
              "    <tr>\n",
              "      <th>7</th>\n",
              "      <td>16</td>\n",
              "      <td>73.190476</td>\n",
              "    </tr>\n",
              "    <tr>\n",
              "      <th>13</th>\n",
              "      <td>17</td>\n",
              "      <td>74.339100</td>\n",
              "    </tr>\n",
              "    <tr>\n",
              "      <th>27</th>\n",
              "      <td>18</td>\n",
              "      <td>73.530055</td>\n",
              "    </tr>\n",
              "    <tr>\n",
              "      <th>10</th>\n",
              "      <td>19</td>\n",
              "      <td>73.146484</td>\n",
              "    </tr>\n",
              "    <tr>\n",
              "      <th>9</th>\n",
              "      <td>20</td>\n",
              "      <td>73.213710</td>\n",
              "    </tr>\n",
              "    <tr>\n",
              "      <th>22</th>\n",
              "      <td>21</td>\n",
              "      <td>72.957836</td>\n",
              "    </tr>\n",
              "    <tr>\n",
              "      <th>6</th>\n",
              "      <td>22</td>\n",
              "      <td>72.819403</td>\n",
              "    </tr>\n",
              "    <tr>\n",
              "      <th>15</th>\n",
              "      <td>23</td>\n",
              "      <td>72.555556</td>\n",
              "    </tr>\n",
              "    <tr>\n",
              "      <th>20</th>\n",
              "      <td>24</td>\n",
              "      <td>72.079529</td>\n",
              "    </tr>\n",
              "    <tr>\n",
              "      <th>19</th>\n",
              "      <td>25</td>\n",
              "      <td>71.290371</td>\n",
              "    </tr>\n",
              "    <tr>\n",
              "      <th>3</th>\n",
              "      <td>26</td>\n",
              "      <td>70.176640</td>\n",
              "    </tr>\n",
              "    <tr>\n",
              "      <th>4</th>\n",
              "      <td>27</td>\n",
              "      <td>69.709122</td>\n",
              "    </tr>\n",
              "    <tr>\n",
              "      <th>2</th>\n",
              "      <td>28</td>\n",
              "      <td>69.444142</td>\n",
              "    </tr>\n",
              "    <tr>\n",
              "      <th>21</th>\n",
              "      <td>29</td>\n",
              "      <td>69.357664</td>\n",
              "    </tr>\n",
              "    <tr>\n",
              "      <th>26</th>\n",
              "      <td>30</td>\n",
              "      <td>69.700109</td>\n",
              "    </tr>\n",
              "    <tr>\n",
              "      <th>0</th>\n",
              "      <td>31</td>\n",
              "      <td>69.850071</td>\n",
              "    </tr>\n",
              "    <tr>\n",
              "      <th>23</th>\n",
              "      <td>32</td>\n",
              "      <td>69.529617</td>\n",
              "    </tr>\n",
              "    <tr>\n",
              "      <th>24</th>\n",
              "      <td>33</td>\n",
              "      <td>69.558824</td>\n",
              "    </tr>\n",
              "    <tr>\n",
              "      <th>1</th>\n",
              "      <td>34</td>\n",
              "      <td>69.539604</td>\n",
              "    </tr>\n",
              "    <tr>\n",
              "      <th>14</th>\n",
              "      <td>35</td>\n",
              "      <td>68.132653</td>\n",
              "    </tr>\n",
              "    <tr>\n",
              "      <th>28</th>\n",
              "      <td>36</td>\n",
              "      <td>67.937008</td>\n",
              "    </tr>\n",
              "    <tr>\n",
              "      <th>12</th>\n",
              "      <td>37</td>\n",
              "      <td>68.939024</td>\n",
              "    </tr>\n",
              "    <tr>\n",
              "      <th>18</th>\n",
              "      <td>38</td>\n",
              "      <td>67.378378</td>\n",
              "    </tr>\n",
              "    <tr>\n",
              "      <th>16</th>\n",
              "      <td>39</td>\n",
              "      <td>67.640000</td>\n",
              "    </tr>\n",
              "    <tr>\n",
              "      <th>8</th>\n",
              "      <td>40</td>\n",
              "      <td>67.692308</td>\n",
              "    </tr>\n",
              "    <tr>\n",
              "      <th>11</th>\n",
              "      <td>41</td>\n",
              "      <td>67.600000</td>\n",
              "    </tr>\n",
              "    <tr>\n",
              "      <th>25</th>\n",
              "      <td>42</td>\n",
              "      <td>65.000000</td>\n",
              "    </tr>\n",
              "    <tr>\n",
              "      <th>5</th>\n",
              "      <td>44</td>\n",
              "      <td>50.500000</td>\n",
              "    </tr>\n",
              "    <tr>\n",
              "      <th>17</th>\n",
              "      <td>45</td>\n",
              "      <td>71.000000</td>\n",
              "    </tr>\n",
              "  </tbody>\n",
              "</table>\n",
              "</div>\n",
              "      <button class=\"colab-df-convert\" onclick=\"convertToInteractive('df-0cafbc2f-57f9-48e8-9181-23c84bafd01a')\"\n",
              "              title=\"Convert this dataframe to an interactive table.\"\n",
              "              style=\"display:none;\">\n",
              "        \n",
              "  <svg xmlns=\"http://www.w3.org/2000/svg\" height=\"24px\"viewBox=\"0 0 24 24\"\n",
              "       width=\"24px\">\n",
              "    <path d=\"M0 0h24v24H0V0z\" fill=\"none\"/>\n",
              "    <path d=\"M18.56 5.44l.94 2.06.94-2.06 2.06-.94-2.06-.94-.94-2.06-.94 2.06-2.06.94zm-11 1L8.5 8.5l.94-2.06 2.06-.94-2.06-.94L8.5 2.5l-.94 2.06-2.06.94zm10 10l.94 2.06.94-2.06 2.06-.94-2.06-.94-.94-2.06-.94 2.06-2.06.94z\"/><path d=\"M17.41 7.96l-1.37-1.37c-.4-.4-.92-.59-1.43-.59-.52 0-1.04.2-1.43.59L10.3 9.45l-7.72 7.72c-.78.78-.78 2.05 0 2.83L4 21.41c.39.39.9.59 1.41.59.51 0 1.02-.2 1.41-.59l7.78-7.78 2.81-2.81c.8-.78.8-2.07 0-2.86zM5.41 20L4 18.59l7.72-7.72 1.47 1.35L5.41 20z\"/>\n",
              "  </svg>\n",
              "      </button>\n",
              "      \n",
              "  <style>\n",
              "    .colab-df-container {\n",
              "      display:flex;\n",
              "      flex-wrap:wrap;\n",
              "      gap: 12px;\n",
              "    }\n",
              "\n",
              "    .colab-df-convert {\n",
              "      background-color: #E8F0FE;\n",
              "      border: none;\n",
              "      border-radius: 50%;\n",
              "      cursor: pointer;\n",
              "      display: none;\n",
              "      fill: #1967D2;\n",
              "      height: 32px;\n",
              "      padding: 0 0 0 0;\n",
              "      width: 32px;\n",
              "    }\n",
              "\n",
              "    .colab-df-convert:hover {\n",
              "      background-color: #E2EBFA;\n",
              "      box-shadow: 0px 1px 2px rgba(60, 64, 67, 0.3), 0px 1px 3px 1px rgba(60, 64, 67, 0.15);\n",
              "      fill: #174EA6;\n",
              "    }\n",
              "\n",
              "    [theme=dark] .colab-df-convert {\n",
              "      background-color: #3B4455;\n",
              "      fill: #D2E3FC;\n",
              "    }\n",
              "\n",
              "    [theme=dark] .colab-df-convert:hover {\n",
              "      background-color: #434B5C;\n",
              "      box-shadow: 0px 1px 3px 1px rgba(0, 0, 0, 0.15);\n",
              "      filter: drop-shadow(0px 1px 2px rgba(0, 0, 0, 0.3));\n",
              "      fill: #FFFFFF;\n",
              "    }\n",
              "  </style>\n",
              "\n",
              "      <script>\n",
              "        const buttonEl =\n",
              "          document.querySelector('#df-0cafbc2f-57f9-48e8-9181-23c84bafd01a button.colab-df-convert');\n",
              "        buttonEl.style.display =\n",
              "          google.colab.kernel.accessAllowed ? 'block' : 'none';\n",
              "\n",
              "        async function convertToInteractive(key) {\n",
              "          const element = document.querySelector('#df-0cafbc2f-57f9-48e8-9181-23c84bafd01a');\n",
              "          const dataTable =\n",
              "            await google.colab.kernel.invokeFunction('convertToInteractive',\n",
              "                                                     [key], {});\n",
              "          if (!dataTable) return;\n",
              "\n",
              "          const docLinkHtml = 'Like what you see? Visit the ' +\n",
              "            '<a target=\"_blank\" href=https://colab.research.google.com/notebooks/data_table.ipynb>data table notebook</a>'\n",
              "            + ' to learn more about interactive tables.';\n",
              "          element.innerHTML = '';\n",
              "          dataTable['output_type'] = 'display_data';\n",
              "          await google.colab.output.renderOutput(dataTable, element);\n",
              "          const docLink = document.createElement('div');\n",
              "          docLink.innerHTML = docLinkHtml;\n",
              "          element.appendChild(docLink);\n",
              "        }\n",
              "      </script>\n",
              "    </div>\n",
              "  </div>\n",
              "  "
            ]
          },
          "metadata": {},
          "execution_count": 43
        }
      ]
    },
    {
      "cell_type": "code",
      "source": [
        "dss.plot(kind='barh',x='Age',y='avg(Potential)',colormap='winter_r',figsize = (15,10))\n",
        "plt.show()"
      ],
      "metadata": {
        "trusted": true,
        "colab": {
          "base_uri": "https://localhost:8080/",
          "height": 592
        },
        "id": "bp8p6adtDI2n",
        "outputId": "4c58d584-5067-4dc4-cf44-1328e8688d8e"
      },
      "execution_count": null,
      "outputs": [
        {
          "output_type": "display_data",
          "data": {
            "text/plain": [
              "<Figure size 1080x720 with 1 Axes>"
            ],
            "image/png": "[encoded data removed]"
          },
          "metadata": {
            "needs_background": "light"
          }
        }
      ]
    },
    {
      "cell_type": "code",
      "source": [
        "Y = df.groupBy(\"Age\").agg(F.mean('Overall'))"
      ],
      "metadata": {
        "trusted": true,
        "id": "d5VDeAlrDI2n"
      },
      "execution_count": null,
      "outputs": []
    },
    {
      "cell_type": "code",
      "source": [
        "Y.show(30)"
      ],
      "metadata": {
        "trusted": true,
        "colab": {
          "base_uri": "https://localhost:8080/"
        },
        "id": "k7gm6PYKDI2o",
        "outputId": "aeefa51c-1e63-4010-ba70-78616ba543af"
      },
      "execution_count": null,
      "outputs": [
        {
          "output_type": "stream",
          "name": "stdout",
          "text": [
            "+---+------------------+\n",
            "|Age|      avg(Overall)|\n",
            "+---+------------------+\n",
            "| 31| 69.85007072135785|\n",
            "| 34| 69.53960396039604|\n",
            "| 28| 69.21344232515895|\n",
            "| 26| 68.51478010093727|\n",
            "| 27| 68.94922547332186|\n",
            "| 22| 64.99402985074627|\n",
            "| 16| 54.45238095238095|\n",
            "| 40|  67.6923076923077|\n",
            "| 20|61.858870967741936|\n",
            "| 19|     59.5830078125|\n",
            "| 41|              67.6|\n",
            "| 37|  68.9390243902439|\n",
            "| 17| 56.40484429065744|\n",
            "| 35| 68.13265306122449|\n",
            "| 23| 66.24474474474475|\n",
            "| 39|             67.64|\n",
            "| 45|              71.0|\n",
            "| 38| 67.37837837837837|\n",
            "| 25| 67.97346474601972|\n",
            "| 24| 67.30633284241532|\n",
            "| 29|  69.2460896767466|\n",
            "| 21| 63.48067463106114|\n",
            "| 32| 69.52961672473867|\n",
            "| 33| 69.55882352941177|\n",
            "| 42|              65.0|\n",
            "| 30| 69.69574700109051|\n",
            "| 18| 57.74180327868852|\n",
            "| 36| 67.93700787401575|\n",
            "| 44|              50.5|\n",
            "+---+------------------+\n",
            "\n"
          ]
        }
      ]
    },
    {
      "cell_type": "code",
      "source": [
        "avg_ovr = [69.85007072135785, 69.53960396039604, 69.21344232515895, 68.51478010093727, 68.94922547332186, 50.5, 64.99402985074627, 54.45238095238095,\n",
        "          67.6923076923077, 61.858870967741936, 59.5830078125, 67.6, 68.9390243902439, 56.40484429065744, 68.13265306122449, 66.24474474474475, 67.64,\n",
        "          71.0, 67.37837837837837, 67.97346474601972, 67.30633284241532, 69.2460896767466, 63.48067463106114, 69.52961672473867, 69.55882352941177,65.0,\n",
        "          69.69574700109051, 57.74180327868852, 67.93700787401575]\n",
        "len(avg_ovr)"
      ],
      "metadata": {
        "trusted": true,
        "colab": {
          "base_uri": "https://localhost:8080/"
        },
        "id": "Y45_SGA8DI2o",
        "outputId": "41614848-a445-42f9-f6ce-7cb234624a51"
      },
      "execution_count": null,
      "outputs": [
        {
          "output_type": "execute_result",
          "data": {
            "text/plain": [
              "29"
            ]
          },
          "metadata": {},
          "execution_count": 47
        }
      ]
    },
    {
      "cell_type": "code",
      "source": [
        "d = {'Age': age,'avg(Overall)': avg_ovr}\n",
        "ds = pd.DataFrame(d)"
      ],
      "metadata": {
        "trusted": true,
        "id": "RnTYtY6RDI2p"
      },
      "execution_count": null,
      "outputs": []
    },
    {
      "cell_type": "code",
      "source": [
        "ds.sort_values(by=['Age'], inplace=True)\n",
        "ds"
      ],
      "metadata": {
        "trusted": true,
        "colab": {
          "base_uri": "https://localhost:8080/",
          "height": 959
        },
        "id": "Fzl8bciHDI2p",
        "outputId": "96e38f83-8688-4345-f926-36daa073a673"
      },
      "execution_count": null,
      "outputs": [
        {
          "output_type": "execute_result",
          "data": {
            "text/plain": [
              "    Age  avg(Overall)\n",
              "7    16     54.452381\n",
              "13   17     56.404844\n",
              "27   18     57.741803\n",
              "10   19     59.583008\n",
              "9    20     61.858871\n",
              "22   21     63.480675\n",
              "6    22     64.994030\n",
              "15   23     66.244745\n",
              "20   24     67.306333\n",
              "19   25     67.973465\n",
              "3    26     68.514780\n",
              "4    27     68.949225\n",
              "2    28     69.213442\n",
              "21   29     69.246090\n",
              "26   30     69.695747\n",
              "0    31     69.850071\n",
              "23   32     69.529617\n",
              "24   33     69.558824\n",
              "1    34     69.539604\n",
              "14   35     68.132653\n",
              "28   36     67.937008\n",
              "12   37     68.939024\n",
              "18   38     67.378378\n",
              "16   39     67.640000\n",
              "8    40     67.692308\n",
              "11   41     67.600000\n",
              "25   42     65.000000\n",
              "5    44     50.500000\n",
              "17   45     71.000000"
            ],
            "text/html": [
              "\n",
              "  <div id=\"df-30eefe03-1f21-4d63-b18b-875e633f86ba\">\n",
              "    <div class=\"colab-df-container\">\n",
              "      <div>\n",
              "<style scoped>\n",
              "    .dataframe tbody tr th:only-of-type {\n",
              "        vertical-align: middle;\n",
              "    }\n",
              "\n",
              "    .dataframe tbody tr th {\n",
              "        vertical-align: top;\n",
              "    }\n",
              "\n",
              "    .dataframe thead th {\n",
              "        text-align: right;\n",
              "    }\n",
              "</style>\n",
              "<table border=\"1\" class=\"dataframe\">\n",
              "  <thead>\n",
              "    <tr style=\"text-align: right;\">\n",
              "      <th></th>\n",
              "      <th>Age</th>\n",
              "      <th>avg(Overall)</th>\n",
              "    </tr>\n",
              "  </thead>\n",
              "  <tbody>\n",
              "    <tr>\n",
              "      <th>7</th>\n",
              "      <td>16</td>\n",
              "      <td>54.452381</td>\n",
              "    </tr>\n",
              "    <tr>\n",
              "      <th>13</th>\n",
              "      <td>17</td>\n",
              "      <td>56.404844</td>\n",
              "    </tr>\n",
              "    <tr>\n",
              "      <th>27</th>\n",
              "      <td>18</td>\n",
              "      <td>57.741803</td>\n",
              "    </tr>\n",
              "    <tr>\n",
              "      <th>10</th>\n",
              "      <td>19</td>\n",
              "      <td>59.583008</td>\n",
              "    </tr>\n",
              "    <tr>\n",
              "      <th>9</th>\n",
              "      <td>20</td>\n",
              "      <td>61.858871</td>\n",
              "    </tr>\n",
              "    <tr>\n",
              "      <th>22</th>\n",
              "      <td>21</td>\n",
              "      <td>63.480675</td>\n",
              "    </tr>\n",
              "    <tr>\n",
              "      <th>6</th>\n",
              "      <td>22</td>\n",
              "      <td>64.994030</td>\n",
              "    </tr>\n",
              "    <tr>\n",
              "      <th>15</th>\n",
              "      <td>23</td>\n",
              "      <td>66.244745</td>\n",
              "    </tr>\n",
              "    <tr>\n",
              "      <th>20</th>\n",
              "      <td>24</td>\n",
              "      <td>67.306333</td>\n",
              "    </tr>\n",
              "    <tr>\n",
              "      <th>19</th>\n",
              "      <td>25</td>\n",
              "      <td>67.973465</td>\n",
              "    </tr>\n",
              "    <tr>\n",
              "      <th>3</th>\n",
              "      <td>26</td>\n",
              "      <td>68.514780</td>\n",
              "    </tr>\n",
              "    <tr>\n",
              "      <th>4</th>\n",
              "      <td>27</td>\n",
              "      <td>68.949225</td>\n",
              "    </tr>\n",
              "    <tr>\n",
              "      <th>2</th>\n",
              "      <td>28</td>\n",
              "      <td>69.213442</td>\n",
              "    </tr>\n",
              "    <tr>\n",
              "      <th>21</th>\n",
              "      <td>29</td>\n",
              "      <td>69.246090</td>\n",
              "    </tr>\n",
              "    <tr>\n",
              "      <th>26</th>\n",
              "      <td>30</td>\n",
              "      <td>69.695747</td>\n",
              "    </tr>\n",
              "    <tr>\n",
              "      <th>0</th>\n",
              "      <td>31</td>\n",
              "      <td>69.850071</td>\n",
              "    </tr>\n",
              "    <tr>\n",
              "      <th>23</th>\n",
              "      <td>32</td>\n",
              "      <td>69.529617</td>\n",
              "    </tr>\n",
              "    <tr>\n",
              "      <th>24</th>\n",
              "      <td>33</td>\n",
              "      <td>69.558824</td>\n",
              "    </tr>\n",
              "    <tr>\n",
              "      <th>1</th>\n",
              "      <td>34</td>\n",
              "      <td>69.539604</td>\n",
              "    </tr>\n",
              "    <tr>\n",
              "      <th>14</th>\n",
              "      <td>35</td>\n",
              "      <td>68.132653</td>\n",
              "    </tr>\n",
              "    <tr>\n",
              "      <th>28</th>\n",
              "      <td>36</td>\n",
              "      <td>67.937008</td>\n",
              "    </tr>\n",
              "    <tr>\n",
              "      <th>12</th>\n",
              "      <td>37</td>\n",
              "      <td>68.939024</td>\n",
              "    </tr>\n",
              "    <tr>\n",
              "      <th>18</th>\n",
              "      <td>38</td>\n",
              "      <td>67.378378</td>\n",
              "    </tr>\n",
              "    <tr>\n",
              "      <th>16</th>\n",
              "      <td>39</td>\n",
              "      <td>67.640000</td>\n",
              "    </tr>\n",
              "    <tr>\n",
              "      <th>8</th>\n",
              "      <td>40</td>\n",
              "      <td>67.692308</td>\n",
              "    </tr>\n",
              "    <tr>\n",
              "      <th>11</th>\n",
              "      <td>41</td>\n",
              "      <td>67.600000</td>\n",
              "    </tr>\n",
              "    <tr>\n",
              "      <th>25</th>\n",
              "      <td>42</td>\n",
              "      <td>65.000000</td>\n",
              "    </tr>\n",
              "    <tr>\n",
              "      <th>5</th>\n",
              "      <td>44</td>\n",
              "      <td>50.500000</td>\n",
              "    </tr>\n",
              "    <tr>\n",
              "      <th>17</th>\n",
              "      <td>45</td>\n",
              "      <td>71.000000</td>\n",
              "    </tr>\n",
              "  </tbody>\n",
              "</table>\n",
              "</div>\n",
              "      <button class=\"colab-df-convert\" onclick=\"convertToInteractive('df-30eefe03-1f21-4d63-b18b-875e633f86ba')\"\n",
              "              title=\"Convert this dataframe to an interactive table.\"\n",
              "              style=\"display:none;\">\n",
              "        \n",
              "  <svg xmlns=\"http://www.w3.org/2000/svg\" height=\"24px\"viewBox=\"0 0 24 24\"\n",
              "       width=\"24px\">\n",
              "    <path d=\"M0 0h24v24H0V0z\" fill=\"none\"/>\n",
              "    <path d=\"M18.56 5.44l.94 2.06.94-2.06 2.06-.94-2.06-.94-.94-2.06-.94 2.06-2.06.94zm-11 1L8.5 8.5l.94-2.06 2.06-.94-2.06-.94L8.5 2.5l-.94 2.06-2.06.94zm10 10l.94 2.06.94-2.06 2.06-.94-2.06-.94-.94-2.06-.94 2.06-2.06.94z\"/><path d=\"M17.41 7.96l-1.37-1.37c-.4-.4-.92-.59-1.43-.59-.52 0-1.04.2-1.43.59L10.3 9.45l-7.72 7.72c-.78.78-.78 2.05 0 2.83L4 21.41c.39.39.9.59 1.41.59.51 0 1.02-.2 1.41-.59l7.78-7.78 2.81-2.81c.8-.78.8-2.07 0-2.86zM5.41 20L4 18.59l7.72-7.72 1.47 1.35L5.41 20z\"/>\n",
              "  </svg>\n",
              "      </button>\n",
              "      \n",
              "  <style>\n",
              "    .colab-df-container {\n",
              "      display:flex;\n",
              "      flex-wrap:wrap;\n",
              "      gap: 12px;\n",
              "    }\n",
              "\n",
              "    .colab-df-convert {\n",
              "      background-color: #E8F0FE;\n",
              "      border: none;\n",
              "      border-radius: 50%;\n",
              "      cursor: pointer;\n",
              "      display: none;\n",
              "      fill: #1967D2;\n",
              "      height: 32px;\n",
              "      padding: 0 0 0 0;\n",
              "      width: 32px;\n",
              "    }\n",
              "\n",
              "    .colab-df-convert:hover {\n",
              "      background-color: #E2EBFA;\n",
              "      box-shadow: 0px 1px 2px rgba(60, 64, 67, 0.3), 0px 1px 3px 1px rgba(60, 64, 67, 0.15);\n",
              "      fill: #174EA6;\n",
              "    }\n",
              "\n",
              "    [theme=dark] .colab-df-convert {\n",
              "      background-color: #3B4455;\n",
              "      fill: #D2E3FC;\n",
              "    }\n",
              "\n",
              "    [theme=dark] .colab-df-convert:hover {\n",
              "      background-color: #434B5C;\n",
              "      box-shadow: 0px 1px 3px 1px rgba(0, 0, 0, 0.15);\n",
              "      filter: drop-shadow(0px 1px 2px rgba(0, 0, 0, 0.3));\n",
              "      fill: #FFFFFF;\n",
              "    }\n",
              "  </style>\n",
              "\n",
              "      <script>\n",
              "        const buttonEl =\n",
              "          document.querySelector('#df-30eefe03-1f21-4d63-b18b-875e633f86ba button.colab-df-convert');\n",
              "        buttonEl.style.display =\n",
              "          google.colab.kernel.accessAllowed ? 'block' : 'none';\n",
              "\n",
              "        async function convertToInteractive(key) {\n",
              "          const element = document.querySelector('#df-30eefe03-1f21-4d63-b18b-875e633f86ba');\n",
              "          const dataTable =\n",
              "            await google.colab.kernel.invokeFunction('convertToInteractive',\n",
              "                                                     [key], {});\n",
              "          if (!dataTable) return;\n",
              "\n",
              "          const docLinkHtml = 'Like what you see? Visit the ' +\n",
              "            '<a target=\"_blank\" href=https://colab.research.google.com/notebooks/data_table.ipynb>data table notebook</a>'\n",
              "            + ' to learn more about interactive tables.';\n",
              "          element.innerHTML = '';\n",
              "          dataTable['output_type'] = 'display_data';\n",
              "          await google.colab.output.renderOutput(dataTable, element);\n",
              "          const docLink = document.createElement('div');\n",
              "          docLink.innerHTML = docLinkHtml;\n",
              "          element.appendChild(docLink);\n",
              "        }\n",
              "      </script>\n",
              "    </div>\n",
              "  </div>\n",
              "  "
            ]
          },
          "metadata": {},
          "execution_count": 49
        }
      ]
    },
    {
      "cell_type": "code",
      "source": [
        "ds.plot(kind='barh',x='Age',y='avg(Overall)',colormap='winter_r',figsize = (15,10))\n",
        "plt.show()"
      ],
      "metadata": {
        "trusted": true,
        "colab": {
          "base_uri": "https://localhost:8080/",
          "height": 592
        },
        "id": "ahUohIDXDI2q",
        "outputId": "94603f65-819d-44d1-d79f-56cb634c0a94"
      },
      "execution_count": null,
      "outputs": [
        {
          "output_type": "display_data",
          "data": {
            "text/plain": [
              "<Figure size 1080x720 with 1 Axes>"
            ],
            "image/png": "[encoded data removed]"
          },
          "metadata": {
            "needs_background": "light"
          }
        }
      ]
    },
    {
      "cell_type": "code",
      "source": [
        "dff = pd.DataFrame(dss['avg(Potential)'] - ds['avg(Overall)'])\n",
        "dff['Age'] = ds['Age']\n",
        "dff"
      ],
      "metadata": {
        "trusted": true,
        "colab": {
          "base_uri": "https://localhost:8080/",
          "height": 959
        },
        "id": "lm574gMyDI2q",
        "outputId": "1ccd5c7a-28a4-45a4-a2c6-8c63fe2c172f"
      },
      "execution_count": null,
      "outputs": [
        {
          "output_type": "execute_result",
          "data": {
            "text/plain": [
              "            0  Age\n",
              "7   18.738095   16\n",
              "13  17.934256   17\n",
              "27  15.788251   18\n",
              "10  13.563477   19\n",
              "9   11.354839   20\n",
              "22   9.477161   21\n",
              "6    7.825373   22\n",
              "15   6.310811   23\n",
              "20   4.773196   24\n",
              "19   3.316907   25\n",
              "3    1.661860   26\n",
              "4    0.759897   27\n",
              "2    0.230699   28\n",
              "21   0.111575   29\n",
              "26   0.004362   30\n",
              "0    0.000000   31\n",
              "23   0.000000   32\n",
              "24   0.000000   33\n",
              "1    0.000000   34\n",
              "14   0.000000   35\n",
              "28   0.000000   36\n",
              "12   0.000000   37\n",
              "18   0.000000   38\n",
              "16   0.000000   39\n",
              "8    0.000000   40\n",
              "11   0.000000   41\n",
              "25   0.000000   42\n",
              "5    0.000000   44\n",
              "17   0.000000   45"
            ],
            "text/html": [
              "\n",
              "  <div id=\"df-1d4edcef-dd46-4b05-b3f6-ff642572ef6d\">\n",
              "    <div class=\"colab-df-container\">\n",
              "      <div>\n",
              "<style scoped>\n",
              "    .dataframe tbody tr th:only-of-type {\n",
              "        vertical-align: middle;\n",
              "    }\n",
              "\n",
              "    .dataframe tbody tr th {\n",
              "        vertical-align: top;\n",
              "    }\n",
              "\n",
              "    .dataframe thead th {\n",
              "        text-align: right;\n",
              "    }\n",
              "</style>\n",
              "<table border=\"1\" class=\"dataframe\">\n",
              "  <thead>\n",
              "    <tr style=\"text-align: right;\">\n",
              "      <th></th>\n",
              "      <th>0</th>\n",
              "      <th>Age</th>\n",
              "    </tr>\n",
              "  </thead>\n",
              "  <tbody>\n",
              "    <tr>\n",
              "      <th>7</th>\n",
              "      <td>18.738095</td>\n",
              "      <td>16</td>\n",
              "    </tr>\n",
              "    <tr>\n",
              "      <th>13</th>\n",
              "      <td>17.934256</td>\n",
              "      <td>17</td>\n",
              "    </tr>\n",
              "    <tr>\n",
              "      <th>27</th>\n",
              "      <td>15.788251</td>\n",
              "      <td>18</td>\n",
              "    </tr>\n",
              "    <tr>\n",
              "      <th>10</th>\n",
              "      <td>13.563477</td>\n",
              "      <td>19</td>\n",
              "    </tr>\n",
              "    <tr>\n",
              "      <th>9</th>\n",
              "      <td>11.354839</td>\n",
              "      <td>20</td>\n",
              "    </tr>\n",
              "    <tr>\n",
              "      <th>22</th>\n",
              "      <td>9.477161</td>\n",
              "      <td>21</td>\n",
              "    </tr>\n",
              "    <tr>\n",
              "      <th>6</th>\n",
              "      <td>7.825373</td>\n",
              "      <td>22</td>\n",
              "    </tr>\n",
              "    <tr>\n",
              "      <th>15</th>\n",
              "      <td>6.310811</td>\n",
              "      <td>23</td>\n",
              "    </tr>\n",
              "    <tr>\n",
              "      <th>20</th>\n",
              "      <td>4.773196</td>\n",
              "      <td>24</td>\n",
              "    </tr>\n",
              "    <tr>\n",
              "      <th>19</th>\n",
              "      <td>3.316907</td>\n",
              "      <td>25</td>\n",
              "    </tr>\n",
              "    <tr>\n",
              "      <th>3</th>\n",
              "      <td>1.661860</td>\n",
              "      <td>26</td>\n",
              "    </tr>\n",
              "    <tr>\n",
              "      <th>4</th>\n",
              "      <td>0.759897</td>\n",
              "      <td>27</td>\n",
              "    </tr>\n",
              "    <tr>\n",
              "      <th>2</th>\n",
              "      <td>0.230699</td>\n",
              "      <td>28</td>\n",
              "    </tr>\n",
              "    <tr>\n",
              "      <th>21</th>\n",
              "      <td>0.111575</td>\n",
              "      <td>29</td>\n",
              "    </tr>\n",
              "    <tr>\n",
              "      <th>26</th>\n",
              "      <td>0.004362</td>\n",
              "      <td>30</td>\n",
              "    </tr>\n",
              "    <tr>\n",
              "      <th>0</th>\n",
              "      <td>0.000000</td>\n",
              "      <td>31</td>\n",
              "    </tr>\n",
              "    <tr>\n",
              "      <th>23</th>\n",
              "      <td>0.000000</td>\n",
              "      <td>32</td>\n",
              "    </tr>\n",
              "    <tr>\n",
              "      <th>24</th>\n",
              "      <td>0.000000</td>\n",
              "      <td>33</td>\n",
              "    </tr>\n",
              "    <tr>\n",
              "      <th>1</th>\n",
              "      <td>0.000000</td>\n",
              "      <td>34</td>\n",
              "    </tr>\n",
              "    <tr>\n",
              "      <th>14</th>\n",
              "      <td>0.000000</td>\n",
              "      <td>35</td>\n",
              "    </tr>\n",
              "    <tr>\n",
              "      <th>28</th>\n",
              "      <td>0.000000</td>\n",
              "      <td>36</td>\n",
              "    </tr>\n",
              "    <tr>\n",
              "      <th>12</th>\n",
              "      <td>0.000000</td>\n",
              "      <td>37</td>\n",
              "    </tr>\n",
              "    <tr>\n",
              "      <th>18</th>\n",
              "      <td>0.000000</td>\n",
              "      <td>38</td>\n",
              "    </tr>\n",
              "    <tr>\n",
              "      <th>16</th>\n",
              "      <td>0.000000</td>\n",
              "      <td>39</td>\n",
              "    </tr>\n",
              "    <tr>\n",
              "      <th>8</th>\n",
              "      <td>0.000000</td>\n",
              "      <td>40</td>\n",
              "    </tr>\n",
              "    <tr>\n",
              "      <th>11</th>\n",
              "      <td>0.000000</td>\n",
              "      <td>41</td>\n",
              "    </tr>\n",
              "    <tr>\n",
              "      <th>25</th>\n",
              "      <td>0.000000</td>\n",
              "      <td>42</td>\n",
              "    </tr>\n",
              "    <tr>\n",
              "      <th>5</th>\n",
              "      <td>0.000000</td>\n",
              "      <td>44</td>\n",
              "    </tr>\n",
              "    <tr>\n",
              "      <th>17</th>\n",
              "      <td>0.000000</td>\n",
              "      <td>45</td>\n",
              "    </tr>\n",
              "  </tbody>\n",
              "</table>\n",
              "</div>\n",
              "      <button class=\"colab-df-convert\" onclick=\"convertToInteractive('df-1d4edcef-dd46-4b05-b3f6-ff642572ef6d')\"\n",
              "              title=\"Convert this dataframe to an interactive table.\"\n",
              "              style=\"display:none;\">\n",
              "        \n",
              "  <svg xmlns=\"http://www.w3.org/2000/svg\" height=\"24px\"viewBox=\"0 0 24 24\"\n",
              "       width=\"24px\">\n",
              "    <path d=\"M0 0h24v24H0V0z\" fill=\"none\"/>\n",
              "    <path d=\"M18.56 5.44l.94 2.06.94-2.06 2.06-.94-2.06-.94-.94-2.06-.94 2.06-2.06.94zm-11 1L8.5 8.5l.94-2.06 2.06-.94-2.06-.94L8.5 2.5l-.94 2.06-2.06.94zm10 10l.94 2.06.94-2.06 2.06-.94-2.06-.94-.94-2.06-.94 2.06-2.06.94z\"/><path d=\"M17.41 7.96l-1.37-1.37c-.4-.4-.92-.59-1.43-.59-.52 0-1.04.2-1.43.59L10.3 9.45l-7.72 7.72c-.78.78-.78 2.05 0 2.83L4 21.41c.39.39.9.59 1.41.59.51 0 1.02-.2 1.41-.59l7.78-7.78 2.81-2.81c.8-.78.8-2.07 0-2.86zM5.41 20L4 18.59l7.72-7.72 1.47 1.35L5.41 20z\"/>\n",
              "  </svg>\n",
              "      </button>\n",
              "      \n",
              "  <style>\n",
              "    .colab-df-container {\n",
              "      display:flex;\n",
              "      flex-wrap:wrap;\n",
              "      gap: 12px;\n",
              "    }\n",
              "\n",
              "    .colab-df-convert {\n",
              "      background-color: #E8F0FE;\n",
              "      border: none;\n",
              "      border-radius: 50%;\n",
              "      cursor: pointer;\n",
              "      display: none;\n",
              "      fill: #1967D2;\n",
              "      height: 32px;\n",
              "      padding: 0 0 0 0;\n",
              "      width: 32px;\n",
              "    }\n",
              "\n",
              "    .colab-df-convert:hover {\n",
              "      background-color: #E2EBFA;\n",
              "      box-shadow: 0px 1px 2px rgba(60, 64, 67, 0.3), 0px 1px 3px 1px rgba(60, 64, 67, 0.15);\n",
              "      fill: #174EA6;\n",
              "    }\n",
              "\n",
              "    [theme=dark] .colab-df-convert {\n",
              "      background-color: #3B4455;\n",
              "      fill: #D2E3FC;\n",
              "    }\n",
              "\n",
              "    [theme=dark] .colab-df-convert:hover {\n",
              "      background-color: #434B5C;\n",
              "      box-shadow: 0px 1px 3px 1px rgba(0, 0, 0, 0.15);\n",
              "      filter: drop-shadow(0px 1px 2px rgba(0, 0, 0, 0.3));\n",
              "      fill: #FFFFFF;\n",
              "    }\n",
              "  </style>\n",
              "\n",
              "      <script>\n",
              "        const buttonEl =\n",
              "          document.querySelector('#df-1d4edcef-dd46-4b05-b3f6-ff642572ef6d button.colab-df-convert');\n",
              "        buttonEl.style.display =\n",
              "          google.colab.kernel.accessAllowed ? 'block' : 'none';\n",
              "\n",
              "        async function convertToInteractive(key) {\n",
              "          const element = document.querySelector('#df-1d4edcef-dd46-4b05-b3f6-ff642572ef6d');\n",
              "          const dataTable =\n",
              "            await google.colab.kernel.invokeFunction('convertToInteractive',\n",
              "                                                     [key], {});\n",
              "          if (!dataTable) return;\n",
              "\n",
              "          const docLinkHtml = 'Like what you see? Visit the ' +\n",
              "            '<a target=\"_blank\" href=https://colab.research.google.com/notebooks/data_table.ipynb>data table notebook</a>'\n",
              "            + ' to learn more about interactive tables.';\n",
              "          element.innerHTML = '';\n",
              "          dataTable['output_type'] = 'display_data';\n",
              "          await google.colab.output.renderOutput(dataTable, element);\n",
              "          const docLink = document.createElement('div');\n",
              "          docLink.innerHTML = docLinkHtml;\n",
              "          element.appendChild(docLink);\n",
              "        }\n",
              "      </script>\n",
              "    </div>\n",
              "  </div>\n",
              "  "
            ]
          },
          "metadata": {},
          "execution_count": 51
        }
      ]
    },
    {
      "cell_type": "code",
      "source": [
        "# So at age of 31,32,33....42,44,45 players fully released their potential"
      ],
      "metadata": {
        "trusted": true,
        "id": "UUg-xtLGDI2q"
      },
      "execution_count": null,
      "outputs": []
    },
    {
      "cell_type": "code",
      "source": [
        "\n",
        "\n",
        "\n",
        "# Part 2 - Unsupervised Learning: Kmeans\n",
        "\n",
        "\n"
      ],
      "metadata": {
        "trusted": true,
        "id": "ArMtWJYpDI2r"
      },
      "execution_count": null,
      "outputs": []
    },
    {
      "cell_type": "code",
      "source": [
        "\n",
        "\n",
        "#DATA PREPARATION\n",
        "\n"
      ],
      "metadata": {
        "trusted": true,
        "id": "UVTz5jHgDI2r"
      },
      "execution_count": null,
      "outputs": []
    },
    {
      "cell_type": "code",
      "source": [
        "#code to select relevant features and filter the data by removing the GK"
      ],
      "metadata": {
        "trusted": true,
        "id": "Y75qfEX8DI2s"
      },
      "execution_count": null,
      "outputs": []
    },
    {
      "cell_type": "code",
      "source": [
        "df2 = df.select('ID','Position', 'Height(CM)', 'Weight(KG)', 'Crossing', 'Finishing', 'HeadingAccuracy', 'ShortPassing', 'Volleys', 'Dribbling', 'Curve', 'FKAccuracy', 'LongPassing', \n",
        "           'BallControl', 'Acceleration', 'SprintSpeed', 'Agility', 'Reactions', 'Balance', 'ShotPower', 'Jumping', 'Stamina', 'Strength', 'LongShots', 'Aggression', \n",
        "           'Interceptions', 'Positioning', 'Vision', 'Penalties', 'Composure', 'Marking', 'StandingTackle', 'SlidingTackle')\n",
        "df2.show(3)\n",
        "df2 = df2.filter((df.Position != \"GK\"))\n",
        "df2.show(5)"
      ],
      "metadata": {
        "trusted": true,
        "colab": {
          "base_uri": "https://localhost:8080/"
        },
        "id": "ddcCvMXpDI2s",
        "outputId": "9bf8799d-cf19-410f-9df4-1ecab9ca7c6d"
      },
      "execution_count": null,
      "outputs": [
        {
          "output_type": "stream",
          "name": "stdout",
          "text": [
            "+------+--------+----------+----------+--------+---------+---------------+------------+-------+---------+-----+----------+-----------+-----------+------------+-----------+-------+---------+-------+---------+-------+-------+--------+---------+----------+-------------+-----------+------+---------+---------+-------+--------------+-------------+\n",
            "|    ID|Position|Height(CM)|Weight(KG)|Crossing|Finishing|HeadingAccuracy|ShortPassing|Volleys|Dribbling|Curve|FKAccuracy|LongPassing|BallControl|Acceleration|SprintSpeed|Agility|Reactions|Balance|ShotPower|Jumping|Stamina|Strength|LongShots|Aggression|Interceptions|Positioning|Vision|Penalties|Composure|Marking|StandingTackle|SlidingTackle|\n",
            "+------+--------+----------+----------+--------+---------+---------------+------------+-------+---------+-----+----------+-----------+-----------+------------+-----------+-------+---------+-------+---------+-------+-------+--------+---------+----------+-------------+-----------+------+---------+---------+-------+--------------+-------------+\n",
            "|158023|      RF|   173.736| 72.121128|      84|       95|             70|          90|     86|       97|   93|        94|         87|         96|          91|         86|     91|       95|     95|       85|     68|     72|      59|       94|        48|           22|         94|    94|       75|       96|     33|            28|           26|\n",
            "| 20801|      ST|   188.976| 83.007336|      84|       94|             89|          81|     87|       88|   81|        76|         77|         94|          89|         91|     87|       96|     70|       95|     95|     88|      79|       93|        63|           29|         95|    82|       85|       95|     28|            31|           23|\n",
            "|190871|      LW|   179.832|   68.0388|      79|       87|             62|          84|     84|       96|   88|        87|         78|         95|          94|         90|     96|       94|     84|       80|     61|     81|      49|       82|        56|           36|         89|    87|       81|       94|     27|            24|           33|\n",
            "+------+--------+----------+----------+--------+---------+---------------+------------+-------+---------+-----+----------+-----------+-----------+------------+-----------+-------+---------+-------+---------+-------+-------+--------+---------+----------+-------------+-----------+------+---------+---------+-------+--------------+-------------+\n",
            "only showing top 3 rows\n",
            "\n",
            "+------+--------+----------+----------+--------+---------+---------------+------------+-------+---------+-----+----------+-----------+-----------+------------+-----------+-------+---------+-------+---------+-------+-------+--------+---------+----------+-------------+-----------+------+---------+---------+-------+--------------+-------------+\n",
            "|    ID|Position|Height(CM)|Weight(KG)|Crossing|Finishing|HeadingAccuracy|ShortPassing|Volleys|Dribbling|Curve|FKAccuracy|LongPassing|BallControl|Acceleration|SprintSpeed|Agility|Reactions|Balance|ShotPower|Jumping|Stamina|Strength|LongShots|Aggression|Interceptions|Positioning|Vision|Penalties|Composure|Marking|StandingTackle|SlidingTackle|\n",
            "+------+--------+----------+----------+--------+---------+---------------+------------+-------+---------+-----+----------+-----------+-----------+------------+-----------+-------+---------+-------+---------+-------+-------+--------+---------+----------+-------------+-----------+------+---------+---------+-------+--------------+-------------+\n",
            "|158023|      RF|   173.736| 72.121128|      84|       95|             70|          90|     86|       97|   93|        94|         87|         96|          91|         86|     91|       95|     95|       85|     68|     72|      59|       94|        48|           22|         94|    94|       75|       96|     33|            28|           26|\n",
            "| 20801|      ST|   188.976| 83.007336|      84|       94|             89|          81|     87|       88|   81|        76|         77|         94|          89|         91|     87|       96|     70|       95|     95|     88|      79|       93|        63|           29|         95|    82|       85|       95|     28|            31|           23|\n",
            "|190871|      LW|   179.832|   68.0388|      79|       87|             62|          84|     84|       96|   88|        87|         78|         95|          94|         90|     96|       94|     84|       80|     61|     81|      49|       82|        56|           36|         89|    87|       81|       94|     27|            24|           33|\n",
            "|192985|     RCM|  155.7528| 69.853168|      93|       82|             55|          92|     82|       86|   85|        83|         91|         91|          78|         76|     79|       91|     77|       91|     63|     90|      75|       91|        76|           61|         87|    94|       79|       88|     68|            58|           51|\n",
            "|183277|      LF|   176.784| 73.935496|      81|       84|             61|          89|     80|       95|   83|        79|         83|         94|          94|         88|     95|       90|     94|       82|     56|     83|      66|       80|        54|           41|         87|    89|       86|       91|     34|            27|           22|\n",
            "+------+--------+----------+----------+--------+---------+---------------+------------+-------+---------+-----+----------+-----------+-----------+------------+-----------+-------+---------+-------+---------+-------+-------+--------+---------+----------+-------------+-----------+------+---------+---------+-------+--------------+-------------+\n",
            "only showing top 5 rows\n",
            "\n"
          ]
        }
      ]
    },
    {
      "cell_type": "code",
      "source": [
        "df2.printSchema()"
      ],
      "metadata": {
        "trusted": true,
        "colab": {
          "base_uri": "https://localhost:8080/"
        },
        "id": "kwPfaFodDI2t",
        "outputId": "e7eb0ed7-3953-414e-9d67-5320a5e1f612"
      },
      "execution_count": null,
      "outputs": [
        {
          "output_type": "stream",
          "name": "stdout",
          "text": [
            "root\n",
            " |-- ID: integer (nullable = true)\n",
            " |-- Position: string (nullable = true)\n",
            " |-- Height(CM): double (nullable = true)\n",
            " |-- Weight(KG): double (nullable = true)\n",
            " |-- Crossing: integer (nullable = true)\n",
            " |-- Finishing: integer (nullable = true)\n",
            " |-- HeadingAccuracy: integer (nullable = true)\n",
            " |-- ShortPassing: integer (nullable = true)\n",
            " |-- Volleys: integer (nullable = true)\n",
            " |-- Dribbling: integer (nullable = true)\n",
            " |-- Curve: integer (nullable = true)\n",
            " |-- FKAccuracy: integer (nullable = true)\n",
            " |-- LongPassing: integer (nullable = true)\n",
            " |-- BallControl: integer (nullable = true)\n",
            " |-- Acceleration: integer (nullable = true)\n",
            " |-- SprintSpeed: integer (nullable = true)\n",
            " |-- Agility: integer (nullable = true)\n",
            " |-- Reactions: integer (nullable = true)\n",
            " |-- Balance: integer (nullable = true)\n",
            " |-- ShotPower: integer (nullable = true)\n",
            " |-- Jumping: integer (nullable = true)\n",
            " |-- Stamina: integer (nullable = true)\n",
            " |-- Strength: integer (nullable = true)\n",
            " |-- LongShots: integer (nullable = true)\n",
            " |-- Aggression: integer (nullable = true)\n",
            " |-- Interceptions: integer (nullable = true)\n",
            " |-- Positioning: integer (nullable = true)\n",
            " |-- Vision: integer (nullable = true)\n",
            " |-- Penalties: integer (nullable = true)\n",
            " |-- Composure: integer (nullable = true)\n",
            " |-- Marking: integer (nullable = true)\n",
            " |-- StandingTackle: integer (nullable = true)\n",
            " |-- SlidingTackle: integer (nullable = true)\n",
            "\n"
          ]
        }
      ]
    },
    {
      "cell_type": "code",
      "source": [
        "from pyspark.sql.functions import when,col\n",
        "\n",
        "# Your code to complete\n",
        "DEF=  ['LB','LWB','RB','LCB','RCB','CB','RWB']\n",
        "FWD=   ['RF','LF','LW','RS','RW','LS','CF','ST']\n",
        "MID=  ['LCM','LM','RDM','CAM','RAM','RCM','CM','CDM','RM','LAM','LDM']\n",
        "\n",
        "\n",
        "# code here to create a new variable df_kmeans_new with a new column Position_Group, ..\n",
        "\n",
        "\n",
        "df_kmeans_new = df2.withColumn(\n",
        "    'Position_Group',\n",
        "    F.when((F.col(\"Position\") == 'LB') | (F.col(\"Position\") == 'LWB') | (F.col(\"Position\") == 'RB') | (F.col(\"Position\") == 'LCB') | (F.col(\"Position\") == 'RCB') | (F.col(\"Position\") == 'CB') | (F.col(\"Position\") == 'RWB'), 'DEF')\\\n",
        "    .when((F.col(\"Position\") == 'RF') | (F.col(\"Position\") == 'LF') | (F.col(\"Position\") == 'LW') | (F.col(\"Position\") == 'RS') | (F.col(\"Position\") == 'RW') | (F.col(\"Position\") == 'LS') | (F.col(\"Position\") == 'CF') | (F.col(\"Position\") == 'ST'), 'FWD')\\\n",
        "    .otherwise('MID')\n",
        ")\n",
        "df_kmeans_new.show(3)"
      ],
      "metadata": {
        "trusted": true,
        "colab": {
          "base_uri": "https://localhost:8080/"
        },
        "id": "OLlB7eRGDI2t",
        "outputId": "0bcef4c1-5a4d-44ab-d4b5-dd7088a90241"
      },
      "execution_count": null,
      "outputs": [
        {
          "output_type": "stream",
          "name": "stdout",
          "text": [
            "+------+--------+----------+----------+--------+---------+---------------+------------+-------+---------+-----+----------+-----------+-----------+------------+-----------+-------+---------+-------+---------+-------+-------+--------+---------+----------+-------------+-----------+------+---------+---------+-------+--------------+-------------+--------------+\n",
            "|    ID|Position|Height(CM)|Weight(KG)|Crossing|Finishing|HeadingAccuracy|ShortPassing|Volleys|Dribbling|Curve|FKAccuracy|LongPassing|BallControl|Acceleration|SprintSpeed|Agility|Reactions|Balance|ShotPower|Jumping|Stamina|Strength|LongShots|Aggression|Interceptions|Positioning|Vision|Penalties|Composure|Marking|StandingTackle|SlidingTackle|Position_Group|\n",
            "+------+--------+----------+----------+--------+---------+---------------+------------+-------+---------+-----+----------+-----------+-----------+------------+-----------+-------+---------+-------+---------+-------+-------+--------+---------+----------+-------------+-----------+------+---------+---------+-------+--------------+-------------+--------------+\n",
            "|158023|      RF|   173.736| 72.121128|      84|       95|             70|          90|     86|       97|   93|        94|         87|         96|          91|         86|     91|       95|     95|       85|     68|     72|      59|       94|        48|           22|         94|    94|       75|       96|     33|            28|           26|           FWD|\n",
            "| 20801|      ST|   188.976| 83.007336|      84|       94|             89|          81|     87|       88|   81|        76|         77|         94|          89|         91|     87|       96|     70|       95|     95|     88|      79|       93|        63|           29|         95|    82|       85|       95|     28|            31|           23|           FWD|\n",
            "|190871|      LW|   179.832|   68.0388|      79|       87|             62|          84|     84|       96|   88|        87|         78|         95|          94|         90|     96|       94|     84|       80|     61|     81|      49|       82|        56|           36|         89|    87|       81|       94|     27|            24|           33|           FWD|\n",
            "+------+--------+----------+----------+--------+---------+---------------+------------+-------+---------+-----+----------+-----------+-----------+------------+-----------+-------+---------+-------+---------+-------+-------+--------+---------+----------+-------------+-----------+------+---------+---------+-------+--------------+-------------+--------------+\n",
            "only showing top 3 rows\n",
            "\n"
          ]
        }
      ]
    },
    {
      "cell_type": "code",
      "source": [
        "df_kmeans_new.groupBy('Height(CM)').count().show(100)"
      ],
      "metadata": {
        "trusted": true,
        "colab": {
          "base_uri": "https://localhost:8080/"
        },
        "id": "Ev3UbRUIDI2u",
        "outputId": "6223baee-bf3c-4329-eff5-41dc203d06f9"
      },
      "execution_count": null,
      "outputs": [
        {
          "output_type": "stream",
          "name": "stdout",
          "text": [
            "+----------+-----+\n",
            "|Height(CM)|count|\n",
            "+----------+-----+\n",
            "|   158.496|    5|\n",
            "|   195.072|  457|\n",
            "|   173.736|  903|\n",
            "|   170.688|  316|\n",
            "|   161.544|   18|\n",
            "|   207.264|    3|\n",
            "|   179.832| 2226|\n",
            "|   185.928| 1588|\n",
            "|   201.168|   42|\n",
            "|   204.216|   12|\n",
            "|    182.88| 2609|\n",
            "|   155.448| 2447|\n",
            "|   188.976| 1531|\n",
            "|    198.12|  133|\n",
            "|   176.784|  942|\n",
            "|   164.592|   30|\n",
            "|    167.64|  145|\n",
            "|   192.024|  661|\n",
            "|  155.7528| 2054|\n",
            "+----------+-----+\n",
            "\n"
          ]
        }
      ]
    },
    {
      "cell_type": "code",
      "source": [
        "from pyspark.ml.clustering import KMeans\n",
        "from pyspark.ml.feature import VectorAssembler\n",
        "\n",
        "FEATURES_COL = ['Height(CM)', 'Weight(KG)', \n",
        "                      'Crossing', 'Finishing', 'HeadingAccuracy', \n",
        "                      'ShortPassing', 'Volleys', 'Dribbling', 'Curve',\n",
        "                      'FKAccuracy', 'LongPassing', 'BallControl', \n",
        "                      'Acceleration', 'SprintSpeed', 'Agility', \n",
        "                      'Reactions', 'Balance', 'ShotPower', 'Jumping', \n",
        "                      'Stamina', 'Strength', 'LongShots', 'Aggression', \n",
        "                      'Interceptions', 'Positioning', 'Vision', 'Penalties', \n",
        "                      'Composure', 'Marking', 'StandingTackle', 'SlidingTackle']\n",
        "\n",
        "vecAssembler = VectorAssembler(inputCols=FEATURES_COL, outputCol=\"features\")\n",
        "df_kmeans_ = vecAssembler.transform(df_kmeans_new).select('ID','features')\n",
        "df_kmeans_.show(3)"
      ],
      "metadata": {
        "trusted": true,
        "colab": {
          "base_uri": "https://localhost:8080/"
        },
        "id": "lATGEwjIDI2u",
        "outputId": "10f71197-9ab3-4658-e45a-43b690538eab"
      },
      "execution_count": null,
      "outputs": [
        {
          "output_type": "stream",
          "name": "stdout",
          "text": [
            "+------+--------------------+\n",
            "|    ID|            features|\n",
            "+------+--------------------+\n",
            "|158023|[173.736,72.12112...|\n",
            "| 20801|[188.976,83.00733...|\n",
            "|190871|[179.832,68.0388,...|\n",
            "+------+--------------------+\n",
            "only showing top 3 rows\n",
            "\n"
          ]
        }
      ]
    },
    {
      "cell_type": "code",
      "source": [
        "import pyspark.sql.functions as f\n",
        "m = df_kmeans_.select(f.collect_list('ID')).first()[0]\n",
        "n = df_kmeans_.select(f.collect_list('features')).first()[0]"
      ],
      "metadata": {
        "trusted": true,
        "id": "9XSDEDjyDI2v"
      },
      "execution_count": null,
      "outputs": []
    },
    {
      "cell_type": "code",
      "source": [
        "ss = df_kmeans_new.select(['Height(CM)', 'Weight(KG)', \n",
        "                      'Crossing', 'Finishing', 'HeadingAccuracy', \n",
        "                      'ShortPassing', 'Volleys', 'Dribbling', 'Curve',\n",
        "                      'FKAccuracy', 'LongPassing', 'BallControl', \n",
        "                      'Acceleration', 'SprintSpeed', 'Agility', \n",
        "                      'Reactions', 'Balance', 'ShotPower', 'Jumping', \n",
        "                      'Stamina', 'Strength', 'LongShots', 'Aggression', \n",
        "                      'Interceptions', 'Positioning', 'Vision', 'Penalties', \n",
        "                      'Composure', 'Marking', 'StandingTackle', 'SlidingTackle'])"
      ],
      "metadata": {
        "trusted": true,
        "id": "nAo6FULKDI2v"
      },
      "execution_count": null,
      "outputs": []
    },
    {
      "cell_type": "code",
      "source": [
        "ss.show(3)"
      ],
      "metadata": {
        "trusted": true,
        "colab": {
          "base_uri": "https://localhost:8080/"
        },
        "id": "ykk6hTjBDI2w",
        "outputId": "e7bab707-b18b-4e80-c896-97ef34d7bef9"
      },
      "execution_count": null,
      "outputs": [
        {
          "output_type": "stream",
          "name": "stdout",
          "text": [
            "+----------+----------+--------+---------+---------------+------------+-------+---------+-----+----------+-----------+-----------+------------+-----------+-------+---------+-------+---------+-------+-------+--------+---------+----------+-------------+-----------+------+---------+---------+-------+--------------+-------------+\n",
            "|Height(CM)|Weight(KG)|Crossing|Finishing|HeadingAccuracy|ShortPassing|Volleys|Dribbling|Curve|FKAccuracy|LongPassing|BallControl|Acceleration|SprintSpeed|Agility|Reactions|Balance|ShotPower|Jumping|Stamina|Strength|LongShots|Aggression|Interceptions|Positioning|Vision|Penalties|Composure|Marking|StandingTackle|SlidingTackle|\n",
            "+----------+----------+--------+---------+---------------+------------+-------+---------+-----+----------+-----------+-----------+------------+-----------+-------+---------+-------+---------+-------+-------+--------+---------+----------+-------------+-----------+------+---------+---------+-------+--------------+-------------+\n",
            "|   173.736| 72.121128|      84|       95|             70|          90|     86|       97|   93|        94|         87|         96|          91|         86|     91|       95|     95|       85|     68|     72|      59|       94|        48|           22|         94|    94|       75|       96|     33|            28|           26|\n",
            "|   188.976| 83.007336|      84|       94|             89|          81|     87|       88|   81|        76|         77|         94|          89|         91|     87|       96|     70|       95|     95|     88|      79|       93|        63|           29|         95|    82|       85|       95|     28|            31|           23|\n",
            "|   179.832|   68.0388|      79|       87|             62|          84|     84|       96|   88|        87|         78|         95|          94|         90|     96|       94|     84|       80|     61|     81|      49|       82|        56|           36|         89|    87|       81|       94|     27|            24|           33|\n",
            "+----------+----------+--------+---------+---------------+------------+-------+---------+-----+----------+-----------+-----------+------------+-----------+-------+---------+-------+---------+-------+-------+--------+---------+----------+-------------+-----------+------+---------+---------+-------+--------------+-------------+\n",
            "only showing top 3 rows\n",
            "\n"
          ]
        }
      ]
    },
    {
      "cell_type": "code",
      "source": [
        "#Elbow plot"
      ],
      "metadata": {
        "trusted": true,
        "id": "fqo1x1tYDI2w"
      },
      "execution_count": null,
      "outputs": []
    },
    {
      "cell_type": "code",
      "source": [
        "from sklearn.cluster import KMeans\n",
        "\n",
        "distortions = []\n",
        "K = range(1,20)\n",
        "for k in K:\n",
        "    kmeanModel = KMeans(n_clusters=k)\n",
        "    kmeanModel.fit(n)\n",
        "    distortions.append(kmeanModel.inertia_)\n",
        "    \n",
        "\n",
        "    \n",
        "plt.figure(figsize=(16,8))\n",
        "plt.plot(K, distortions, 'bx-')\n",
        "plt.xlabel('k')\n",
        "plt.ylabel('Distortion')\n",
        "plt.title('The Elbow Method showing the optimal k')\n",
        "plt.show()"
      ],
      "metadata": {
        "trusted": true,
        "colab": {
          "base_uri": "https://localhost:8080/",
          "height": 513
        },
        "id": "ty91cQ-vDI2x",
        "outputId": "be2251b1-978e-4c78-906a-3858c7fd7356"
      },
      "execution_count": null,
      "outputs": [
        {
          "output_type": "display_data",
          "data": {
            "text/plain": [
              "<Figure size 1152x576 with 1 Axes>"
            ],
            "image/png": "[encoded data removed]"
          },
          "metadata": {
            "needs_background": "light"
          }
        }
      ]
    },
    {
      "cell_type": "code",
      "source": [
        "#Optimized value of k is 10"
      ],
      "metadata": {
        "trusted": true,
        "id": "tAD3SbL7DI2y"
      },
      "execution_count": null,
      "outputs": []
    },
    {
      "cell_type": "code",
      "source": [
        "#For K = 8"
      ],
      "metadata": {
        "trusted": true,
        "id": "aqfDM0WJDI2y"
      },
      "execution_count": null,
      "outputs": []
    },
    {
      "cell_type": "code",
      "source": [
        "l = df_kmeans_new.select(f.collect_list('Position_Group')).first()[0]\n",
        "m = df_kmeans_new.select(f.collect_list('Height(CM)')).first()[0]\n",
        "\n",
        "n = df_kmeans_new.select(f.collect_list('Weight(KG)')).first()[0]"
      ],
      "metadata": {
        "trusted": true,
        "id": "usbpoRAvDI2z"
      },
      "execution_count": null,
      "outputs": []
    },
    {
      "cell_type": "code",
      "source": [
        "X = pd.DataFrame({'Group' : l, 'Height' : m, 'Weight' : n})"
      ],
      "metadata": {
        "trusted": true,
        "id": "DdAgLL9nDI20"
      },
      "execution_count": null,
      "outputs": []
    },
    {
      "cell_type": "code",
      "source": [
        "from sklearn import preprocessing\n",
        "le = preprocessing.LabelEncoder()\n",
        "\n",
        "X['Group'] = le.fit_transform(X.Group.values)\n",
        "print(X)"
      ],
      "metadata": {
        "trusted": true,
        "colab": {
          "base_uri": "https://localhost:8080/"
        },
        "id": "ObMUETa0DI20",
        "outputId": "fb124325-2aea-4d25-8381-a7f8b2934b3a"
      },
      "execution_count": null,
      "outputs": [
        {
          "output_type": "stream",
          "name": "stdout",
          "text": [
            "       Group    Height     Weight\n",
            "0          1  173.7360  72.121128\n",
            "1          1  188.9760  83.007336\n",
            "2          1  179.8320  68.038800\n",
            "3          2  155.7528  69.853168\n",
            "4          1  176.7840  73.935496\n",
            "...      ...       ...        ...\n",
            "16117      2  179.8320  60.781328\n",
            "16118      1  192.0240  77.110640\n",
            "16119      1  176.7840  67.131616\n",
            "16120      1  155.4480  69.853168\n",
            "16121      2  155.4480  79.832192\n",
            "\n",
            "[16122 rows x 3 columns]\n"
          ]
        }
      ]
    },
    {
      "cell_type": "code",
      "source": [
        "\n",
        "\n",
        "from pyspark.ml.clustering import KMeans\n",
        "\n",
        "\n",
        "from sklearn.cluster import KMeans\n",
        "# Applying k-means to the dataset\n",
        "kmeans = KMeans(n_clusters=8,init='k-means++',max_iter=300,n_init=10,random_state=0) \n",
        "y_kmeans = kmeans.fit_predict(X)\n",
        "\n",
        "print(y_kmeans)\n",
        "\n",
        "X = X.values\n",
        "\n",
        "# Visualising the clusters\n",
        "plt.scatter(X[y_kmeans == 0, 0], X[y_kmeans == 0,1],s=100,c='red',label='1')\n",
        "plt.scatter(X[y_kmeans == 1, 0], X[y_kmeans == 1,1],s=100,c='blue',label='2')\n",
        "plt.scatter(X[y_kmeans == 2, 0], X[y_kmeans == 2,1],s=100,c='green',label='3')\n",
        "plt.scatter(X[y_kmeans == 3, 0], X[y_kmeans == 3,1],s=100,c='gray',label='4')\n",
        "plt.scatter(X[y_kmeans == 4, 0], X[y_kmeans == 4,1],s=100,c='violet',label='5')\n",
        "plt.scatter(X[y_kmeans == 5, 0], X[y_kmeans == 5,1],s=100,c='orange',label='6')\n",
        "plt.scatter(X[y_kmeans == 6, 0], X[y_kmeans == 6,1],s=100,c='lime',label='7')\n",
        "plt.scatter(X[y_kmeans == 7, 0], X[y_kmeans == 7,1],s=100,c='black',label='8')\n",
        "plt.scatter(kmeans.cluster_centers_[:,0],kmeans.cluster_centers_[:,1],s=300,c='yellow',label='Centroids')\n",
        "plt.title('Clusters ')\n",
        "plt.legend()\n",
        "\n",
        "plt.show()"
      ],
      "metadata": {
        "trusted": true,
        "colab": {
          "base_uri": "https://localhost:8080/",
          "height": 298
        },
        "id": "latrBP_4DI21",
        "outputId": "3e9f53c1-5d26-4a3a-8372-a18612d5201f"
      },
      "execution_count": null,
      "outputs": [
        {
          "output_type": "stream",
          "name": "stdout",
          "text": [
            "[5 2 5 ... 5 6 1]\n"
          ]
        },
        {
          "output_type": "display_data",
          "data": {
            "text/plain": [
              "<Figure size 432x288 with 1 Axes>"
            ],
            "image/png": "[encoded data removed]"
          },
          "metadata": {
            "needs_background": "light"
          }
        }
      ]
    },
    {
      "cell_type": "code",
      "source": [
        "\n",
        "\n",
        "\n",
        "#Part 3 - Supervised Learning: Classification on Position_Group\n",
        "\n",
        "\n"
      ],
      "metadata": {
        "trusted": true,
        "id": "YnGdJuBqDI22"
      },
      "execution_count": null,
      "outputs": []
    },
    {
      "cell_type": "code",
      "source": [
        "\n",
        "\n",
        "#3.1 Data Preparation\n",
        "\n"
      ],
      "metadata": {
        "trusted": true,
        "id": "P0Lao-TmDI22"
      },
      "execution_count": null,
      "outputs": []
    },
    {
      "cell_type": "code",
      "source": [
        "FEATURES_COL_ = ['Height(CM)', 'Weight(KG)', \n",
        "                      'Crossing', 'Finishing', 'HeadingAccuracy', \n",
        "                      'ShortPassing', 'Volleys', 'Dribbling', 'Curve',\n",
        "                      'FKAccuracy', 'LongPassing', 'BallControl', \n",
        "                      'Acceleration', 'SprintSpeed', 'Agility', \n",
        "                      'Reactions', 'Balance', 'ShotPower', 'Jumping', \n",
        "                      'Stamina', 'Strength', 'LongShots', 'Aggression', \n",
        "                      'Interceptions', 'Positioning', 'Vision', 'Penalties', \n",
        "                      'Composure', 'Marking', 'StandingTackle', 'SlidingTackle']\n",
        "\n",
        "\n",
        "vecAssembler_ = VectorAssembler(inputCols=FEATURES_COL_, outputCol=\"features\")\n",
        "df_class_ = vecAssembler_.transform(df_kmeans_new).select('features','Position_Group')\n",
        "df_class_.show(3)"
      ],
      "metadata": {
        "trusted": true,
        "colab": {
          "base_uri": "https://localhost:8080/"
        },
        "id": "SUsYuDybDI23",
        "outputId": "551c4aad-5754-48c8-f9ee-30bf2981b760"
      },
      "execution_count": null,
      "outputs": [
        {
          "output_type": "stream",
          "name": "stdout",
          "text": [
            "+--------------------+--------------+\n",
            "|            features|Position_Group|\n",
            "+--------------------+--------------+\n",
            "|[173.736,72.12112...|           FWD|\n",
            "|[188.976,83.00733...|           FWD|\n",
            "|[179.832,68.0388,...|           FWD|\n",
            "+--------------------+--------------+\n",
            "only showing top 3 rows\n",
            "\n"
          ]
        }
      ]
    },
    {
      "cell_type": "code",
      "source": [
        "from pyspark.ml.feature import StandardScaler\n",
        "\n",
        "standardscaler=StandardScaler().setInputCol(\"features\").setOutputCol(\"Scaled_features\")\n",
        "raw_data=standardscaler.fit(df_class_).transform(df_class_)\n",
        "raw_data.select(\"features\",\"Scaled_features\",'Position_Group').show(5)"
      ],
      "metadata": {
        "trusted": true,
        "colab": {
          "base_uri": "https://localhost:8080/"
        },
        "id": "UyO9PJFFDI23",
        "outputId": "f2e7f74f-8a39-4b85-f790-e0c68e3cbac0"
      },
      "execution_count": null,
      "outputs": [
        {
          "output_type": "stream",
          "name": "stdout",
          "text": [
            "+--------------------+--------------------+--------------+\n",
            "|            features|     Scaled_features|Position_Group|\n",
            "+--------------------+--------------------+--------------+\n",
            "|[173.736,72.12112...|[12.9261363965246...|           FWD|\n",
            "|[188.976,83.00733...|[14.0600080102548...|           FWD|\n",
            "|[179.832,68.0388,...|[13.3796850420167...|           FWD|\n",
            "|[155.7528,69.8531...|[11.5881678923229...|           MID|\n",
            "|[176.784,73.93549...|[13.1529107192706...|           FWD|\n",
            "+--------------------+--------------------+--------------+\n",
            "only showing top 5 rows\n",
            "\n"
          ]
        }
      ]
    },
    {
      "cell_type": "code",
      "source": [
        "raw_data_ = raw_data.withColumn('Target',when(col(\"Position_Group\") == \"DEF\", 1)\n",
        "      .when(col(\"Position_Group\")== \"FWD\", 0)\n",
        "      .otherwise(2))"
      ],
      "metadata": {
        "trusted": true,
        "id": "PUW1DXKEDI24"
      },
      "execution_count": null,
      "outputs": []
    },
    {
      "cell_type": "code",
      "source": [
        "raw_data_.show()"
      ],
      "metadata": {
        "trusted": true,
        "colab": {
          "base_uri": "https://localhost:8080/"
        },
        "id": "tFaSHzTqDI24",
        "outputId": "4c5a873c-156d-4f04-d2ca-21d8911ef324"
      },
      "execution_count": null,
      "outputs": [
        {
          "output_type": "stream",
          "name": "stdout",
          "text": [
            "+--------------------+--------------+--------------------+------+\n",
            "|            features|Position_Group|     Scaled_features|Target|\n",
            "+--------------------+--------------+--------------------+------+\n",
            "|[173.736,72.12112...|           FWD|[12.9261363965246...|     0|\n",
            "|[188.976,83.00733...|           FWD|[14.0600080102548...|     0|\n",
            "|[179.832,68.0388,...|           FWD|[13.3796850420167...|     0|\n",
            "|[155.7528,69.8531...|           MID|[11.5881678923229...|     2|\n",
            "|[176.784,73.93549...|           FWD|[13.1529107192706...|     0|\n",
            "|[176.784,66.22443...|           MID|[13.1529107192706...|     2|\n",
            "|[182.88,86.18248,...|           FWD|[13.6064593647627...|     0|\n",
            "|[182.88,82.100152...|           DEF|[13.6064593647627...|     1|\n",
            "|[182.88,79.832192...|           FWD|[13.6064593647627...|     0|\n",
            "|[182.88,76.203456...|           MID|[13.6064593647627...|     2|\n",
            "|[188.976,78.01782...|           DEF|[14.0600080102548...|     1|\n",
            "|[176.784,67.13161...|           MID|[13.1529107192706...|     2|\n",
            "|[170.688,72.12112...|           MID|[12.6993620737785...|     2|\n",
            "|[155.448,74.84268...|           FWD|[11.5654904600483...|     0|\n",
            "|[188.976,88.90403...|           FWD|[14.0600080102548...|     0|\n",
            "|[179.832,73.02831...|           MID|[13.3796850420167...|     2|\n",
            "|[188.976,76.20345...|           MID|[14.0600080102548...|     2|\n",
            "|[185.928,77.11064...|           FWD|[13.8332336875088...|     0|\n",
            "|[176.784,69.85316...|           FWD|[13.1529107192706...|     0|\n",
            "|[188.976,84.82170...|           DEF|[14.0600080102548...|     1|\n",
            "+--------------------+--------------+--------------------+------+\n",
            "only showing top 20 rows\n",
            "\n"
          ]
        }
      ]
    },
    {
      "cell_type": "code",
      "source": [
        "\n",
        "\n",
        "\n",
        "#3.2 Training Test Evaluation\n",
        "\n",
        "\n"
      ],
      "metadata": {
        "trusted": true,
        "id": "V6_Ww0klDI24"
      },
      "execution_count": null,
      "outputs": []
    },
    {
      "cell_type": "code",
      "source": [
        "train, test = raw_data_.randomSplit([0.7, 0.3], seed=12)"
      ],
      "metadata": {
        "trusted": true,
        "id": "npa7Dp2aDI25"
      },
      "execution_count": null,
      "outputs": []
    },
    {
      "cell_type": "code",
      "source": [
        "from pyspark.ml.classification import LogisticRegression\n",
        "lr = LogisticRegression(labelCol=\"Target\", featuresCol=\"Scaled_features\",maxIter=10)\n",
        "model=lr.fit(train)\n",
        "\n",
        "predict_train=model.transform(train)\n",
        "predict_test=model.transform(test)\n",
        "predict_test.select(\"Target\",\"prediction\").show(10)"
      ],
      "metadata": {
        "trusted": true,
        "colab": {
          "base_uri": "https://localhost:8080/"
        },
        "id": "gbRasGEADI25",
        "outputId": "c6786c31-006d-425c-bf82-f5835faca0ab"
      },
      "execution_count": null,
      "outputs": [
        {
          "output_type": "stream",
          "name": "stdout",
          "text": [
            "+------+----------+\n",
            "|Target|prediction|\n",
            "+------+----------+\n",
            "|     2|       2.0|\n",
            "|     1|       1.0|\n",
            "|     1|       1.0|\n",
            "|     0|       0.0|\n",
            "|     2|       2.0|\n",
            "|     1|       1.0|\n",
            "|     0|       2.0|\n",
            "|     1|       2.0|\n",
            "|     2|       2.0|\n",
            "|     0|       0.0|\n",
            "+------+----------+\n",
            "only showing top 10 rows\n",
            "\n"
          ]
        }
      ]
    },
    {
      "cell_type": "code",
      "source": [
        "Target = predict_test.select(f.collect_list('Target')).first()[0]\n",
        "prediction = predict_test.select(f.collect_list('prediction')).first()[0]"
      ],
      "metadata": {
        "trusted": true,
        "id": "b_AZaPRrDI26"
      },
      "execution_count": null,
      "outputs": []
    },
    {
      "cell_type": "code",
      "source": [
        "#Confusion matrix\n",
        "from sklearn.metrics import confusion_matrix\n",
        "confusion_matrix(Target, prediction)"
      ],
      "metadata": {
        "trusted": true,
        "colab": {
          "base_uri": "https://localhost:8080/"
        },
        "id": "gW_oU4rzDI26",
        "outputId": "ee9114e2-9576-4056-8fbc-db8d7a7cb2d2"
      },
      "execution_count": null,
      "outputs": [
        {
          "output_type": "execute_result",
          "data": {
            "text/plain": [
              "array([[ 731,   12,  209],\n",
              "       [   0, 1643,  142],\n",
              "       [ 162,  144, 1714]])"
            ]
          },
          "metadata": {},
          "execution_count": 82
        }
      ]
    },
    {
      "cell_type": "code",
      "source": [
        "#recision    recall  f1-score\n",
        "\n",
        "from sklearn.metrics import classification_report\n",
        "print(classification_report(Target, prediction))"
      ],
      "metadata": {
        "trusted": true,
        "colab": {
          "base_uri": "https://localhost:8080/"
        },
        "id": "CzQkq9xQDI27",
        "outputId": "a51ff22e-2558-4c2b-ffd6-12a8b1d1075e"
      },
      "execution_count": null,
      "outputs": [
        {
          "output_type": "stream",
          "name": "stdout",
          "text": [
            "              precision    recall  f1-score   support\n",
            "\n",
            "           0       0.82      0.77      0.79       952\n",
            "           1       0.91      0.92      0.92      1785\n",
            "           2       0.83      0.85      0.84      2020\n",
            "\n",
            "    accuracy                           0.86      4757\n",
            "   macro avg       0.85      0.85      0.85      4757\n",
            "weighted avg       0.86      0.86      0.86      4757\n",
            "\n"
          ]
        }
      ]
    },
    {
      "cell_type": "code",
      "source": [
        "\n",
        "\n",
        "#3.3 K-fold Cross-Validation\n",
        "\n"
      ],
      "metadata": {
        "trusted": true,
        "id": "qkqyIuzrDI27"
      },
      "execution_count": null,
      "outputs": []
    },
    {
      "cell_type": "code",
      "source": [
        "from pyspark.ml import Pipeline\n",
        "from pyspark.ml.linalg import Vectors\n",
        "from pyspark.ml.evaluation import RegressionEvaluator\n",
        "from pyspark.ml.regression import LinearRegression\n",
        "from pyspark.ml.tuning import CrossValidator, ParamGridBuilder"
      ],
      "metadata": {
        "trusted": true,
        "id": "J8jEdUQDDI27"
      },
      "execution_count": null,
      "outputs": []
    },
    {
      "cell_type": "code",
      "source": [
        "dataset = train.select('features','Target')\n",
        "dataset = dataset.withColumnRenamed(\"Target\", \"label\")"
      ],
      "metadata": {
        "trusted": true,
        "id": "JBpUVDH5DI28"
      },
      "execution_count": null,
      "outputs": []
    },
    {
      "cell_type": "code",
      "source": [
        "lr = LinearRegression(maxIter=5, solver=\"l-bfgs\") # solver=\"l-bfgs\" here\n",
        "\n",
        "modelEvaluator=RegressionEvaluator()\n",
        "pipeline = Pipeline(stages=[lr])\n",
        "paramGrid = ParamGridBuilder().addGrid(lr.regParam, [0.1, 0.01]).addGrid(lr.elasticNetParam, [0, 1]).build()\n"
      ],
      "metadata": {
        "trusted": true,
        "id": "oJ9Ck6ObDI28"
      },
      "execution_count": null,
      "outputs": []
    },
    {
      "cell_type": "code",
      "source": [
        "crossval = CrossValidator(estimator=lr,\n",
        "                          estimatorParamMaps=paramGrid,\n",
        "                          evaluator=modelEvaluator,\n",
        "                          numFolds=3)\n",
        "\n"
      ],
      "metadata": {
        "trusted": true,
        "id": "HwUzpoe6DI28"
      },
      "execution_count": null,
      "outputs": []
    },
    {
      "cell_type": "code",
      "source": [
        "n = raw_data_.select('Scaled_features','Target')"
      ],
      "metadata": {
        "trusted": true,
        "id": "GxPfoz3XDI29"
      },
      "execution_count": null,
      "outputs": []
    },
    {
      "cell_type": "code",
      "source": [
        "n = n.withColumnRenamed(\"Target\", \"label\")"
      ],
      "metadata": {
        "trusted": true,
        "id": "3cnKMvZnDI29"
      },
      "execution_count": null,
      "outputs": []
    },
    {
      "cell_type": "code",
      "source": [
        "n = n.withColumnRenamed('Scaled_features','features')"
      ],
      "metadata": {
        "trusted": true,
        "id": "xuozslRADI2-"
      },
      "execution_count": null,
      "outputs": []
    },
    {
      "cell_type": "code",
      "source": [
        "n"
      ],
      "metadata": {
        "trusted": true,
        "colab": {
          "base_uri": "https://localhost:8080/"
        },
        "id": "-0TKwCLgDI2-",
        "outputId": "8555d441-26e3-4f57-f441-2af2ec447e93"
      },
      "execution_count": null,
      "outputs": [
        {
          "output_type": "execute_result",
          "data": {
            "text/plain": [
              "DataFrame[features: vector, label: int]"
            ]
          },
          "metadata": {},
          "execution_count": 92
        }
      ]
    },
    {
      "cell_type": "code",
      "source": [
        "cvModel = crossval.fit(n)\n",
        "trainingSummary = cvModel.bestModel.summary\n",
        "\n",
        "trainingSummary.totalIterations\n",
        "# 2\n",
        "trainingSummary.objectiveHistory # one value for each iteration"
      ],
      "metadata": {
        "trusted": true,
        "colab": {
          "base_uri": "https://localhost:8080/"
        },
        "id": "Wg2MY3G9DI2-",
        "outputId": "788d4ba1-5268-4e59-f994-7b0b141ccf2a"
      },
      "execution_count": null,
      "outputs": [
        {
          "output_type": "execute_result",
          "data": {
            "text/plain": [
              "[0.4999689864780849,\n",
              " 0.3600475243112104,\n",
              " 0.31782363214359555,\n",
              " 0.3047620545236012,\n",
              " 0.29326791730328106,\n",
              " 0.2867233032695258]"
            ]
          },
          "metadata": {},
          "execution_count": 93
        }
      ]
    },
    {
      "cell_type": "code",
      "source": [
        "from pyspark.ml.regression import RandomForestRegressor\n",
        "from pyspark.ml.tuning import ParamGridBuilder, CrossValidator\n",
        "from pyspark.ml.evaluation import RegressionEvaluator\n",
        "\n",
        "# Create an initial RandomForest model.\n",
        "rf = RandomForestRegressor(labelCol=\"label\", featuresCol=\"features\")\n",
        "\n",
        "# Evaluate model\n",
        "rfevaluator = RegressionEvaluator(predictionCol=\"prediction\", labelCol=\"label\", metricName=\"rmse\")\n",
        "\n",
        "# Create ParamGrid for Cross Validation\n",
        "rfparamGrid = (ParamGridBuilder()\n",
        "               .addGrid(rf.maxDepth, [2, 5, 10])\n",
        "               .addGrid(rf.maxBins, [5, 10, 20])\n",
        "               .addGrid(rf.numTrees, [5, 20, 50])\n",
        "             .build())\n",
        "\n",
        "# Create 5-fold CrossValidator\n",
        "rfcv = CrossValidator(estimator = rf,\n",
        "                      estimatorParamMaps = rfparamGrid,\n",
        "                      evaluator = rfevaluator,\n",
        "                      numFolds = 5)\n"
      ],
      "metadata": {
        "trusted": true,
        "id": "yvAppg_7DI2_"
      },
      "execution_count": null,
      "outputs": []
    },
    {
      "cell_type": "code",
      "source": [
        "# Run cross validations.\n",
        "rfcvModel = rfcv.fit(n)\n",
        "print(rfcvModel)"
      ],
      "metadata": {
        "trusted": true,
        "colab": {
          "base_uri": "https://localhost:8080/"
        },
        "id": "ie6QvmFZDI3A",
        "outputId": "03e199d8-9122-46e0-be77-aa3b185b731d"
      },
      "execution_count": null,
      "outputs": [
        {
          "output_type": "stream",
          "name": "stdout",
          "text": [
            "CrossValidatorModel_c9cc6bd2da70\n"
          ]
        }
      ]
    },
    {
      "cell_type": "code",
      "source": [
        "from pyspark.ml.classification import LogisticRegression, OneVsRest\n",
        "from pyspark.ml.evaluation import MulticlassClassificationEvaluator\n",
        "\n",
        "\n",
        "\n",
        "# generate the train/test split.\n",
        "(train, test) = n.randomSplit([0.8, 0.2])\n",
        "\n",
        "# instantiate the base classifier.\n",
        "lr = LogisticRegression(maxIter=10, tol=1E-6, fitIntercept=True)\n",
        "\n",
        "# instantiate the One Vs Rest Classifier.\n",
        "ovr = OneVsRest(classifier=lr)\n",
        "\n"
      ],
      "metadata": {
        "trusted": true,
        "id": "63vOFiujDI3A"
      },
      "execution_count": null,
      "outputs": []
    },
    {
      "cell_type": "code",
      "source": [
        "# train the multiclass model.\n",
        "ovrModel = ovr.fit(train)\n"
      ],
      "metadata": {
        "trusted": true,
        "id": "YT4ER7FJDI3B"
      },
      "execution_count": null,
      "outputs": []
    },
    {
      "cell_type": "code",
      "source": [
        "# score the model on test data.\n",
        "predictions = ovrModel.transform(test)\n"
      ],
      "metadata": {
        "trusted": true,
        "id": "-RiZJHIYDI3C"
      },
      "execution_count": null,
      "outputs": []
    },
    {
      "cell_type": "code",
      "source": [
        "# obtain evaluator.\n",
        "evaluator = MulticlassClassificationEvaluator(metricName=\"accuracy\")\n"
      ],
      "metadata": {
        "trusted": true,
        "id": "Oxncl64vDI3C"
      },
      "execution_count": null,
      "outputs": []
    },
    {
      "cell_type": "code",
      "source": [
        "evaluator"
      ],
      "metadata": {
        "trusted": true,
        "colab": {
          "base_uri": "https://localhost:8080/"
        },
        "id": "6wfnddwLDI3D",
        "outputId": "4f581c62-41d4-479f-ebfb-40080c04f9d0"
      },
      "execution_count": null,
      "outputs": [
        {
          "output_type": "execute_result",
          "data": {
            "text/plain": [
              "MulticlassClassificationEvaluator_edbf06a26084"
            ]
          },
          "metadata": {},
          "execution_count": 100
        }
      ]
    },
    {
      "cell_type": "code",
      "source": [
        "# compute the classification error on test data.\n",
        "accuracy = evaluator.evaluate(predictions)\n",
        "print(\"Test Error = %g\" % (1.0 - accuracy))"
      ],
      "metadata": {
        "trusted": true,
        "colab": {
          "base_uri": "https://localhost:8080/"
        },
        "id": "itOffABjDI3D",
        "outputId": "7c2339e9-3172-4ba2-8a17-b54f964c3c0d"
      },
      "execution_count": null,
      "outputs": [
        {
          "output_type": "stream",
          "name": "stdout",
          "text": [
            "Test Error = 0.14142\n"
          ]
        }
      ]
    },
    {
      "cell_type": "code",
      "source": [
        "##END"
      ],
      "metadata": {
        "trusted": true,
        "id": "ioeteLm2DI3E"
      },
      "execution_count": null,
      "outputs": []
    }
  ]
}